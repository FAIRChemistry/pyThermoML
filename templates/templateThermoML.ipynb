{
 "cells": [
  {
   "cell_type": "markdown",
   "metadata": {},
   "source": [
    "# *PyThermoML* - Import Template\n",
    "This template explains how *PyThermoML* can be used, to write data into ThermoML.\n",
    "\n",
    "**WARNING API is still changig. Only use under reservation.**\n",
    "\n",
    "\n",
    "Before usage make sure that you've installed json, pydantic and lxml e. g. via pip."
   ]
  },
  {
   "cell_type": "code",
   "execution_count": 1,
   "metadata": {},
   "outputs": [],
   "source": [
    "from pythermo.thermoml.core import PureOrMixtureData, DataReport, Compound, DataPoint\n",
    "\n",
    "from pythermo.thermoml.vars.componentcomposition import ComponentCompositionBase\n",
    "from pythermo.thermoml.vars.temperature import TemperatureBase\n",
    "from pythermo.thermoml.props.transportproperties import TransportProperty\n",
    "\n",
    "from pythermo.thermoml.props.volumetricproperties import VolumetricProperty\n",
    "from pythermo.thermoml.tools.writeTools import ThermoMLWriter\n",
    "from pythermo.thermoml.tools.readTools import ThermoMLReader\n",
    "from pydantic.json import pydantic_encoder"
   ]
  },
  {
   "cell_type": "markdown",
   "metadata": {},
   "source": [
    "## DataReport\n",
    "First create a dataReport instance, in which you can declare the title, the DOI and the authors of the referred paper.\n"
   ]
  },
  {
   "cell_type": "code",
   "execution_count": 2,
   "metadata": {},
   "outputs": [],
   "source": [
    "\n",
    "# title, DOI, authors\n",
    "authors = {\n",
    "    \"author 1\": \"authror1\",\n",
    "    \"author 2\": \"author2\",\n",
    "    \"author 3\": \"author3\"\n",
    "}\n",
    "\n",
    "dataReport = DataReport(title=\"Title of referred\",\n",
    "                        DOI=\"Doi of referred paper\", authors=authors)"
   ]
  },
  {
   "cell_type": "markdown",
   "metadata": {},
   "source": [
    "## Compounds\n",
    "After that you can declare the compounds which you have used in your chemical system."
   ]
  },
  {
   "cell_type": "code",
   "execution_count": 3,
   "metadata": {},
   "outputs": [],
   "source": [
    "comp1 = Compound(ID=\"c1\", standardInchI=\"inhi1\", standardInchIKey=\"inchikey1\", smiles=\"smiles1\", commonName=\"water\")\n",
    "comp2 = Compound(ID=\"c2\", standardInchI=\"inchi2\", standardInchIKey=\"inchikey2\", smiles=\"smiles2\", commonName=\"ethanol\")"
   ]
  },
  {
   "cell_type": "markdown",
   "metadata": {},
   "source": [
    "The attributes of Compounds are an internal ID, the inchi code, inchi key, smiles code and a common Name. In the next step, add the compounds to dataReport. With the ID you can reference to the compound later. IDs have to start with the letter 'c'."
   ]
  },
  {
   "cell_type": "code",
   "execution_count": 4,
   "metadata": {},
   "outputs": [],
   "source": [
    "comp1_ID = dataReport.addCompound(comp1)\n",
    "comp2_ID = dataReport.addCompound(comp2)"
   ]
  },
  {
   "cell_type": "markdown",
   "metadata": {},
   "source": [
    "## Pure or mixture data\n",
    "The main part begins here: Declare in a PureOrMixtureData object which compounds you have used, by putting them into an array and calling them by their ID. Give your experiment also an ID that has to start with the letters 'pom'."
   ]
  },
  {
   "cell_type": "code",
   "execution_count": 5,
   "metadata": {},
   "outputs": [],
   "source": [
    "comps = [comp1_ID, comp2_ID]\n",
    "experiment = PureOrMixtureData(ID=\"pom1\", comps=comps)"
   ]
  },
  {
   "cell_type": "markdown",
   "metadata": {},
   "source": [
    "## Declaration of Property and Variable\n",
    "Declare your examined property (e.g. the viscosity) and variables (e. g. the temperature, mole fraction) of the experiment/simulation.\n",
    "\n",
    "Concerning the property, enter again an ID (begins with letter 'p') and indicate whether you've done a simulation or an experiment.\n",
    "The variable has also an ID (begins with letter 'v'). Be aware, that there are compound specific variables/properties (e. g. mole fraction). The function returns an ID to refer to respective property/variable."
   ]
  },
  {
   "cell_type": "code",
   "execution_count": 6,
   "metadata": {},
   "outputs": [],
   "source": [
    "dens = VolumetricProperty.massDensity(ID='p1', method='simulation')\n",
    "sdiffCoeff1 = TransportProperty.selfDiffusionCoefficient(\n",
    "    ID=\"p2\", method='simulation', compoundID=comp1_ID)\n",
    "sdiffCoeff2 = TransportProperty.selfDiffusionCoefficient(\n",
    "    ID=\"p3\", method='simulation', compoundID=comp2_ID)\n",
    "\n",
    "# Variable definitions\n",
    "temp = TemperatureBase.temperature(ID=\"v1\")\n",
    "\n",
    "frac1 = ComponentCompositionBase.moleFraction('v2', comp1_ID)\n",
    "frac2 = ComponentCompositionBase.moleFraction('v3', comp2_ID)"
   ]
  },
  {
   "cell_type": "markdown",
   "metadata": {},
   "source": [
    "This API provides the following properties:\n",
    "* volumetric properties:\n",
    "    * mass density (kg/m3)\n",
    "* heat capacity properties:\n",
    "    * molar heat capacity at constant pressure (J/K/mol)\n",
    "    * molar heat capacity at constant volume (J/K/mol)\n",
    "* transport properties:\n",
    "    * viscosity (Pa*s)\n",
    "    * kinematic viscosity (m2/s)\n",
    "    * microviscosity (Pa*s)\n",
    "    * self dffusion coefficient (m2/s)\n",
    "* bioproperties:\n",
    "    * peakTemperature (K)\n",
    "* other:\n",
    "    * surface tension (N/m) \n",
    "    * speed of sound (m/s)\n",
    "\n",
    "This API provides the following variables:\n",
    "* component composition:\n",
    "    * mole fraction ()\n",
    "* temperatures:\n",
    "    * temperature(K)\n",
    "    * upper temperature(K)\n",
    "    * lower temperature(K)\n",
    "* pressure:\n",
    "    * pressure (kPa)\n",
    "    \n",
    "\n",
    "The units are fixed and cannot be changed!\n",
    "For usage import the respective packages."
   ]
  },
  {
   "cell_type": "markdown",
   "metadata": {},
   "source": [
    "Add initialized properties/variables to experiement. The experiment is now ready to get filled with data.\n"
   ]
  },
  {
   "cell_type": "code",
   "execution_count": 7,
   "metadata": {},
   "outputs": [],
   "source": [
    "densID = experiment.addProperty(dens)\n",
    "dffCoeff1ID = experiment.addProperty(sdiffCoeff1)\n",
    "dffCoeff2ID = experiment.addProperty(sdiffCoeff2)\n",
    "tempID = experiment.addVariable(temp)\n",
    "frac1ID = experiment.addVariable(frac1)\n",
    "frac2ID = experiment.addVariable(frac2)"
   ]
  },
  {
   "cell_type": "markdown",
   "metadata": {},
   "source": [
    "## Add data to experiment\n",
    "Data can be added to experiment by creating Datapoints. Each Datapoint needs an identifier on which measurement you refer to (has to begin with 'meas'), the measured value, the property/variable used and an uncertainty of the measured value."
   ]
  },
  {
   "cell_type": "code",
   "execution_count": 8,
   "metadata": {},
   "outputs": [],
   "source": [
    "measurementID = \"meas1\"\n",
    "\n",
    "viscDataPoint = DataPoint(\n",
    "    measurementID=measurementID,\n",
    "    value=10.0,\n",
    "    propID=densID,\n",
    ")\n",
    "\n",
    "sdiff1DataPoint1 = DataPoint(\n",
    "    measurementID=measurementID,\n",
    "    value=10334,\n",
    "    propID=dffCoeff1ID\n",
    ")\n",
    "\n",
    "sdiff2DataPoint1 = DataPoint(\n",
    "    measurementID=measurementID,\n",
    "    value=123123,\n",
    "    propID=dffCoeff2ID\n",
    ")\n",
    "\n",
    "tempDataPoint = DataPoint(\n",
    "    measurementID=measurementID,\n",
    "    value=300.0,\n",
    "    varID=tempID,\n",
    ")\n",
    "\n",
    "frac1DataPoint = DataPoint(\n",
    "    measurementID=measurementID,\n",
    "    value=0.2,\n",
    "    varID=frac1ID,\n",
    ")\n",
    "\n",
    "frac2DataPoint = DataPoint(\n",
    "    measurementID=measurementID,\n",
    "    value=0.8,\n",
    "    varID=frac2ID,\n",
    ")\n",
    "\n",
    "measurementID = \"meas2\"\n",
    "sdiff1DataPoint2 = DataPoint(\n",
    "    measurementID=measurementID,\n",
    "    value=10334,\n",
    "    propID=dffCoeff1ID\n",
    ")\n",
    "\n",
    "sdiff2DataPoint2 = DataPoint(\n",
    "    measurementID=measurementID,\n",
    "    value=123123,\n",
    "    propID=dffCoeff2ID\n",
    ")\n",
    "viscDataPoint2 = DataPoint(\n",
    "    measurementID=measurementID,\n",
    "    value=1000.0,\n",
    "    propID=densID,\n",
    "    uncertainty=0.1\n",
    ")\n",
    "\n",
    "tempDataPoint2 = DataPoint(\n",
    "    measurementID=measurementID,\n",
    "    value=1000.0,\n",
    "    varID=tempID,\n",
    "    uncertainty=10.0\n",
    ")\n",
    "\n",
    "frac1DataPoint2 = DataPoint(\n",
    "    measurementID=measurementID,\n",
    "    value=1000.0,\n",
    "    varID=frac1ID,\n",
    "    uncertainty=0.01\n",
    ")\n",
    "\n",
    "frac2DataPoint2 = DataPoint(\n",
    "    measurementID=measurementID,\n",
    "    value=1000,\n",
    "    varID=frac2ID,\n",
    "    uncertainty=0.02\n",
    ")\n",
    "\n",
    "datapoints = [viscDataPoint, sdiff1DataPoint1, sdiff2DataPoint1,\n",
    "              tempDataPoint, frac1DataPoint, frac2DataPoint]\n",
    "\n",
    "datapoints2 = [viscDataPoint2, sdiff1DataPoint2, sdiff2DataPoint2, tempDataPoint2,\n",
    "               frac1DataPoint2, frac2DataPoint2]"
   ]
  },
  {
   "cell_type": "markdown",
   "metadata": {},
   "source": [
    "For each variable and property an uncertainty can be declared. For variables this API stores the **expanded uncertainty**. It is a quantity defining an interval about the result of a measurement that may be expected to encompass a large fraction of the distribution of values that could reasonably be attributed to the measurand. For properties the API stores the **combined standard uncertainty**. Note: the chosen values dont have any chemical meaning."
   ]
  },
  {
   "cell_type": "code",
   "execution_count": null,
   "metadata": {},
   "outputs": [],
   "source": [
    "# add Measurement to experiment\n",
    "experiment.addMeasurement(dataPoints=datapoints)\n",
    "experiment.addMeasurement(dataPoints=datapoints2)\n",
    "\n",
    "# add experiment to dataReport\n",
    "dataReport.addPureOrMixtureData(experiment)"
   ]
  },
  {
   "cell_type": "code",
   "execution_count": 10,
   "metadata": {},
   "outputs": [
    {
     "name": "stdout",
     "output_type": "stream",
     "text": [
      "{\n",
      "    \"title\": \"Title of referred\",\n",
      "    \"DOI\": \"Doi of referred paper\",\n",
      "    \"authors\": {\n",
      "        \"author 1\": \"authror1\",\n",
      "        \"author 2\": \"author2\",\n",
      "        \"author 3\": \"author3\"\n",
      "    },\n",
      "    \"compounds\": {\n",
      "        \"c1\": {\n",
      "            \"ID\": \"c1\",\n",
      "            \"standardInchI\": \"inhi1\",\n",
      "            \"standardInchIKey\": \"inchikey1\",\n",
      "            \"smiles\": \"smiles1\",\n",
      "            \"commonName\": \"water\"\n",
      "        },\n",
      "        \"c2\": {\n",
      "            \"ID\": \"c2\",\n",
      "            \"standardInchI\": \"inchi2\",\n",
      "            \"standardInchIKey\": \"inchikey2\",\n",
      "            \"smiles\": \"smiles2\",\n",
      "            \"commonName\": \"ethanol\"\n",
      "        }\n",
      "    },\n",
      "    \"pureOrMixtureData\": {\n",
      "        \"pom1\": {\n",
      "            \"ID\": \"pom1\",\n",
      "            \"comps\": [\n",
      "                \"c1\",\n",
      "                \"c2\"\n",
      "            ],\n",
      "            \"properties\": {\n",
      "                \"p1\": {\n",
      "                    \"propName\": \"Mass density\",\n",
      "                    \"propGroup\": \"VolumetricProp\",\n",
      "                    \"ID\": \"p1\",\n",
      "                    \"unit\": \"kg/m3\",\n",
      "                    \"method\": \"simulation\"\n",
      "                },\n",
      "                \"p2\": {\n",
      "                    \"propName\": \"Self diffusion coefficient\",\n",
      "                    \"propGroup\": \"TransportProp\",\n",
      "                    \"ID\": \"p2\",\n",
      "                    \"unit\": \"m2/s\",\n",
      "                    \"method\": \"simulation\",\n",
      "                    \"compoundID\": \"c1\"\n",
      "                },\n",
      "                \"p3\": {\n",
      "                    \"propName\": \"Self diffusion coefficient\",\n",
      "                    \"propGroup\": \"TransportProp\",\n",
      "                    \"ID\": \"p3\",\n",
      "                    \"unit\": \"m2/s\",\n",
      "                    \"method\": \"simulation\",\n",
      "                    \"compoundID\": \"c2\"\n",
      "                }\n",
      "            },\n",
      "            \"variables\": {\n",
      "                \"v1\": {\n",
      "                    \"varType\": \"eTemperature\",\n",
      "                    \"varName\": \"Temperature\",\n",
      "                    \"ID\": \"v1\",\n",
      "                    \"unit\": \"K\"\n",
      "                },\n",
      "                \"v2\": {\n",
      "                    \"varType\": \"eComponentComposition\",\n",
      "                    \"varName\": \"Mole fraction\",\n",
      "                    \"ID\": \"v2\",\n",
      "                    \"unit\": \"\",\n",
      "                    \"compoundID\": \"c1\"\n",
      "                },\n",
      "                \"v3\": {\n",
      "                    \"varType\": \"eComponentComposition\",\n",
      "                    \"varName\": \"Mole fraction\",\n",
      "                    \"ID\": \"v3\",\n",
      "                    \"unit\": \"\",\n",
      "                    \"compoundID\": \"c2\"\n",
      "                }\n",
      "            },\n",
      "            \"measurements\": {\n",
      "                \"meas1\": {\n",
      "                    \"ID\": \"meas1\",\n",
      "                    \"properties\": {\n",
      "                        \"p1\": {\n",
      "                            \"measurementID\": \"meas1\",\n",
      "                            \"value\": 10.0,\n",
      "                            \"propID\": \"p1\",\n",
      "                            \"data_point_type\": \"Property\",\n",
      "                            \"elementID\": \"p1\"\n",
      "                        },\n",
      "                        \"p2\": {\n",
      "                            \"measurementID\": \"meas1\",\n",
      "                            \"value\": 10334.0,\n",
      "                            \"propID\": \"p2\",\n",
      "                            \"data_point_type\": \"Property\",\n",
      "                            \"elementID\": \"p2\"\n",
      "                        },\n",
      "                        \"p3\": {\n",
      "                            \"measurementID\": \"meas1\",\n",
      "                            \"value\": 123123.0,\n",
      "                            \"propID\": \"p3\",\n",
      "                            \"data_point_type\": \"Property\",\n",
      "                            \"elementID\": \"p3\"\n",
      "                        }\n",
      "                    },\n",
      "                    \"variables\": {\n",
      "                        \"v1\": {\n",
      "                            \"measurementID\": \"meas1\",\n",
      "                            \"value\": 300.0,\n",
      "                            \"varID\": \"v1\",\n",
      "                            \"data_point_type\": \"Variable\",\n",
      "                            \"elementID\": \"v1\"\n",
      "                        },\n",
      "                        \"v2\": {\n",
      "                            \"measurementID\": \"meas1\",\n",
      "                            \"value\": 0.2,\n",
      "                            \"varID\": \"v2\",\n",
      "                            \"data_point_type\": \"Variable\",\n",
      "                            \"elementID\": \"v2\"\n",
      "                        },\n",
      "                        \"v3\": {\n",
      "                            \"measurementID\": \"meas1\",\n",
      "                            \"value\": 0.8,\n",
      "                            \"varID\": \"v3\",\n",
      "                            \"data_point_type\": \"Variable\",\n",
      "                            \"elementID\": \"v3\"\n",
      "                        }\n",
      "                    }\n",
      "                },\n",
      "                \"meas2\": {\n",
      "                    \"ID\": \"meas2\",\n",
      "                    \"properties\": {\n",
      "                        \"p1\": {\n",
      "                            \"measurementID\": \"meas2\",\n",
      "                            \"value\": 1000.0,\n",
      "                            \"propID\": \"p1\",\n",
      "                            \"uncertainty\": 0.1,\n",
      "                            \"data_point_type\": \"Property\",\n",
      "                            \"elementID\": \"p1\"\n",
      "                        },\n",
      "                        \"p2\": {\n",
      "                            \"measurementID\": \"meas2\",\n",
      "                            \"value\": 10334.0,\n",
      "                            \"propID\": \"p2\",\n",
      "                            \"data_point_type\": \"Property\",\n",
      "                            \"elementID\": \"p2\"\n",
      "                        },\n",
      "                        \"p3\": {\n",
      "                            \"measurementID\": \"meas2\",\n",
      "                            \"value\": 123123.0,\n",
      "                            \"propID\": \"p3\",\n",
      "                            \"data_point_type\": \"Property\",\n",
      "                            \"elementID\": \"p3\"\n",
      "                        }\n",
      "                    },\n",
      "                    \"variables\": {\n",
      "                        \"v1\": {\n",
      "                            \"measurementID\": \"meas2\",\n",
      "                            \"value\": 1000.0,\n",
      "                            \"varID\": \"v1\",\n",
      "                            \"uncertainty\": 10.0,\n",
      "                            \"data_point_type\": \"Variable\",\n",
      "                            \"elementID\": \"v1\"\n",
      "                        },\n",
      "                        \"v2\": {\n",
      "                            \"measurementID\": \"meas2\",\n",
      "                            \"value\": 1000.0,\n",
      "                            \"varID\": \"v2\",\n",
      "                            \"uncertainty\": 0.01,\n",
      "                            \"data_point_type\": \"Variable\",\n",
      "                            \"elementID\": \"v2\"\n",
      "                        },\n",
      "                        \"v3\": {\n",
      "                            \"measurementID\": \"meas2\",\n",
      "                            \"value\": 1000.0,\n",
      "                            \"varID\": \"v3\",\n",
      "                            \"uncertainty\": 0.02,\n",
      "                            \"data_point_type\": \"Variable\",\n",
      "                            \"elementID\": \"v3\"\n",
      "                        }\n",
      "                    }\n",
      "                }\n",
      "            }\n",
      "        }\n",
      "    }\n",
      "}\n"
     ]
    }
   ],
   "source": [
    "# pretty print dataReport object with functionalities provided by pydantic\n",
    "print(dataReport.json(exclude_none=True, indent=4))"
   ]
  },
  {
   "cell_type": "markdown",
   "metadata": {},
   "source": [
    "Congratulations your DataReport object has been created sucessfully. Now you can write your DataReport to a ThermoML file by using the writeThermo() function. If you want to modify your ThermoML file you can read it by readFromThermoMLFile()"
   ]
  },
  {
   "cell_type": "code",
   "execution_count": 11,
   "metadata": {},
   "outputs": [
    {
     "name": "stdout",
     "output_type": "stream",
     "text": [
      "[<Element {http://www.iupac.org/namespaces/ThermoML}nVarValue at 0x1b6636aeb00>]\n",
      "[<Element {http://www.iupac.org/namespaces/ThermoML}nVarValue at 0x1b6636aebc0>]\n",
      "[<Element {http://www.iupac.org/namespaces/ThermoML}nVarValue at 0x1b6636aec00>]\n",
      "[<Element {http://www.iupac.org/namespaces/ThermoML}nVarValue at 0x1b6636ae980>]\n",
      "[<Element {http://www.iupac.org/namespaces/ThermoML}nVarValue at 0x1b6636b5180>]\n",
      "[<Element {http://www.iupac.org/namespaces/ThermoML}nVarValue at 0x1b6636b5240>]\n"
     ]
    },
    {
     "data": {
      "text/plain": [
       "DataPoint(measurementID='meas1', value=10.0, propID='p1', varID=None, uncertainty=None, numberOfDigits=None, data_point_type='Property', elementID='p1')"
      ]
     },
     "execution_count": 11,
     "metadata": {},
     "output_type": "execute_result"
    }
   ],
   "source": [
    "# write to 'testThermo.xml'\n",
    "writer = ThermoMLWriter(dataRep=dataReport, filename=\"testThermo.xml\")\n",
    "writer.writeThermo()\n",
    "\n",
    "# read from 'testThermo.xml'\n",
    "reader1 = ThermoMLReader(path=\"testThermo.xml\")\n",
    "dataRepRead1 = reader1.readFromThermoMLFile()\n",
    "\n",
    "# reading from 'testThermo.json' also works\n",
    "reader2 = ThermoMLReader(path=\"testThermo.json\")\n",
    "dataRepRead2 = reader2.readFromJSON()\n",
    "\n",
    "# accesing data with softdata functionalities\n",
    "dataRepRead2.getPureOrMixtureData(\"pom1\").getMeasurement(\"meas1\").getProperty(\"p1\")"
   ]
  }
 ],
 "metadata": {
  "interpreter": {
   "hash": "8647b8584ee8e2356f562710b4bb5117ab2222b2a64053b0ea4cdd65c32e7ccf"
  },
  "kernelspec": {
   "display_name": "Python 3.9.4 64-bit (system)",
   "name": "python3"
  },
  "language_info": {
   "codemirror_mode": {
    "name": "ipython",
    "version": 3
   },
   "file_extension": ".py",
   "mimetype": "text/x-python",
   "name": "python",
   "nbconvert_exporter": "python",
   "pygments_lexer": "ipython3",
   "version": "3.9.4"
  }
 },
 "nbformat": 4,
 "nbformat_minor": 2
}

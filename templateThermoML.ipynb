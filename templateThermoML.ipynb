{
 "cells": [
  {
   "cell_type": "markdown",
   "source": [
    "# *PyThermoML* - Import Template\n",
    "This template explains how *PyThermoML* can be used, to write data into ThermoML.\n",
    "\n",
    "**WARNING API is still changig. Only use under reservation.**\n",
    "**Uncertaintys and errors of measurement arent included!**"
   ],
   "metadata": {}
  },
  {
   "cell_type": "code",
   "execution_count": 1,
   "source": [
    "from core import PureOrMixtureData, Measurement, DataReport, Compound, DataPoint"
   ],
   "outputs": [],
   "metadata": {}
  },
  {
   "cell_type": "markdown",
   "source": [
    "## DataReport\n",
    "First create a dataReport instance, in which you can declare the title, the DOI and the authors of the referred paper.\n"
   ],
   "metadata": {}
  },
  {
   "cell_type": "code",
   "execution_count": 2,
   "source": [
    "dataReport = DataReport(\"Title of referred paper\", \"DOI of referred paper\", \"author 1\", \"author 2\")"
   ],
   "outputs": [],
   "metadata": {}
  },
  {
   "cell_type": "markdown",
   "source": [
    "## Compounds\n",
    "After that you can declare the compounds which you have used in your chemical system."
   ],
   "metadata": {}
  },
  {
   "cell_type": "code",
   "execution_count": 3,
   "source": [
    "comp1 = Compound(\"id1\", \"inhi1\", \"inchikey1\", \"smiles1\", \"water\")\n",
    "comp2 = Compound(\"id2\", \"inchi2\", \"inchikey2\", \"smiles2\", \"ethanol\")"
   ],
   "outputs": [],
   "metadata": {}
  },
  {
   "cell_type": "markdown",
   "source": [
    "The attributes of Compounds are an internal ID, the inchi code, inchi key, smiles code and a common Name. In the next step, add the compounds to dataReport. With the ID you can reference to the compound later."
   ],
   "metadata": {}
  },
  {
   "cell_type": "code",
   "execution_count": 4,
   "source": [
    "comp1_ID = dataReport.addCompound(comp1)\n",
    "comp2_ID = dataReport.addCompound(comp2)"
   ],
   "outputs": [],
   "metadata": {}
  },
  {
   "cell_type": "markdown",
   "source": [
    "## Pure or mixture data\n",
    "The main part begins here: Declare in a PureOrMixtureData object which compounds you have used, by calling them by their ID. Give your experiment also an ID and a name."
   ],
   "metadata": {}
  },
  {
   "cell_type": "code",
   "execution_count": 5,
   "source": [
    "experiment = PureOrMixtureData(\"ID\", \"experiement1\", comp1_ID, comp2_ID)"
   ],
   "outputs": [],
   "metadata": {}
  },
  {
   "cell_type": "markdown",
   "source": [
    "## Declaration of Property and Variable\n",
    "Declare your examined property (e.g. the viscosity) and variables (e. g. the temperature, mole fraction) of the experiment/simulation.\n",
    "\n",
    "Concerning the property, enter again an ID and indicate whether you've done a simulation or an experiment.\n",
    "The variable has also an ID. Be aware, that there are compound specific variables/properties (e. g. mole fraction). The function returns an ID to refer to respective property/variable."
   ],
   "metadata": {}
  },
  {
   "cell_type": "code",
   "execution_count": 6,
   "source": [
    "from props.transportproperties import viscosity\n",
    "from vars.componentcomposition import moleFraction\n",
    "from vars.temperature import temperature\n",
    "from props.transportproperties import viscosity\n",
    "\n",
    "\n",
    "#property definitions\n",
    "visc = viscosity('visc1', \"simulation\")\n",
    "# Variable definitions\n",
    "temp = temperature('temp1')\n",
    "frac1 = moleFraction('moleFrac1', comp1_ID)\n",
    "frac2 = moleFraction('moleFrac2', comp2_ID)"
   ],
   "outputs": [],
   "metadata": {}
  },
  {
   "cell_type": "markdown",
   "source": [
    "This API provides the following properties:\n",
    "* volumetric properties:\n",
    "    * mass density (kg/m3)\n",
    "* heat capacity properties:\n",
    "    * molar heat capacity at constant pressure (J/K/mol)\n",
    "    * molar heat capacity at constant volume (J/K/mol)\n",
    "* transport properties:\n",
    "    * viscosity (Pa*s)\n",
    "    * kinematic viscosity (m2/s)\n",
    "    * microviscosity (Pa*s)\n",
    "    * self dffusion coefficient (m2/s)\n",
    "* bioproperties:\n",
    "    * peakTemperature (K)\n",
    "* other:\n",
    "    * surface tension (N/m) \n",
    "    * speed of sound (m/s)\n",
    "\n",
    "This API provides the following variables:\n",
    "* component composition:\n",
    "    * mole fraction ()\n",
    "* temperatures:\n",
    "    * temperature(K)\n",
    "    * upper temperature(K)\n",
    "    * lower temperature(K)\n",
    "* pressure:\n",
    "    * pressure (kPa)\n",
    "    \n",
    "\n",
    "The units are fixed and cannot be changed!\n",
    "For usage import the respective packages."
   ],
   "metadata": {}
  },
  {
   "cell_type": "markdown",
   "source": [
    "Add initialized properties/variables to experiement. The experiment is now ready to get filled with data.\n"
   ],
   "metadata": {}
  },
  {
   "cell_type": "code",
   "execution_count": 7,
   "source": [
    "viscID = experiment.addProperty(visc)\n",
    "tempID = experiment.addVariable(temp)\n",
    "frac1ID = experiment.addVariable(frac1)\n",
    "frac2ID = experiment.addVariable(frac2)"
   ],
   "outputs": [],
   "metadata": {}
  },
  {
   "cell_type": "markdown",
   "source": [
    "## Add data to experiment\n",
    "Data can be added to experiment by creating a Measurement object. It contains again a name, a values dictionary and a reference to the expereiment. First declare the values dictionary.\n",
    "Therfore use the ID of the property/variable as key and enter the values."
   ],
   "metadata": {}
  },
  {
   "cell_type": "code",
   "execution_count": 8,
   "source": [
    "measurementID = \"meas1\"\n",
    "\n",
    "viscDataPoint = DataPoint(\n",
    "    measurementID=measurementID,\n",
    "    value=10.0,\n",
    "    propID=viscID,\n",
    "    uncertainty=0.1\n",
    ")\n",
    "\n",
    "tempDataPoint = DataPoint(\n",
    "    measurementID=measurementID,\n",
    "    value=300.0,\n",
    "    varID=tempID,\n",
    "    uncertainty=10.0\n",
    ")\n",
    "\n",
    "frac1DataPoint = DataPoint(\n",
    "    measurementID=measurementID,\n",
    "    value=0.2,\n",
    "    varID=frac1ID,\n",
    "    uncertainty=0.01\n",
    ")\n",
    "\n",
    "frac2DataPoint = DataPoint(\n",
    "    measurementID=measurementID,\n",
    "    value=0.8,\n",
    "    varID=frac2ID,\n",
    "    uncertainty=0.02\n",
    ")\n",
    "\n",
    "datapoints = [viscDataPoint, tempDataPoint, frac1DataPoint, frac2DataPoint]"
   ],
   "outputs": [],
   "metadata": {}
  },
  {
   "cell_type": "markdown",
   "source": [
    "In this **example** (T = 300K, mole fraction of water and ethanol = 1/2) the mixture had a viscosity at 0.001 Pa*s. "
   ],
   "metadata": {}
  },
  {
   "cell_type": "code",
   "execution_count": 10,
   "source": [
    "# add Measurement to experiment\n",
    "experiment.addMeasurement(dataPoints=datapoints)\n",
    "\n",
    "# add experiment to dataReport\n",
    "dataReport.addPureOrMixtureData(experiment)\n",
    "print(dataReport)"
   ],
   "outputs": [
    {
     "output_type": "stream",
     "name": "stdout",
     "text": [
      "{\n",
      "    \"_title\": \"Title of referred paper\",\n",
      "    \"_DOI\": \"DOI of referred paper\",\n",
      "    \"_authors\": {\n",
      "        \"_author0\": \"author 1\",\n",
      "        \"_author1\": \"author 2\"\n",
      "    },\n",
      "    \"compounds\": {\n",
      "        \"id1\": {\n",
      "            \"_Compound__type\": \"comp\",\n",
      "            \"_ID\": \"id1\",\n",
      "            \"_standardInchi\": \"inhi1\",\n",
      "            \"_standardInchiKey\": \"inchikey1\",\n",
      "            \"_smiles\": \"smiles1\",\n",
      "            \"_commonName\": \"water\"\n",
      "        },\n",
      "        \"id2\": {\n",
      "            \"_Compound__type\": \"comp\",\n",
      "            \"_ID\": \"id2\",\n",
      "            \"_standardInchi\": \"inchi2\",\n",
      "            \"_standardInchiKey\": \"inchikey2\",\n",
      "            \"_smiles\": \"smiles2\",\n",
      "            \"_commonName\": \"ethanol\"\n",
      "        }\n",
      "    },\n",
      "    \"pureOrMixtureData\": {\n",
      "        \"ID\": {\n",
      "            \"_ID\": \"ID\",\n",
      "            \"_name\": \"experiement1\",\n",
      "            \"comps\": [\n",
      "                \"id1\",\n",
      "                \"id2\"\n",
      "            ],\n",
      "            \"_properties\": {\n",
      "                \"visc1\": {\n",
      "                    \"_propName\": \"Viscosity\",\n",
      "                    \"_ID\": \"visc1\",\n",
      "                    \"_propGroup\": \"TransportProp\",\n",
      "                    \"_unit\": \"Pa*s\",\n",
      "                    \"_method\": \"simulation\",\n",
      "                    \"_PropertyBase__type\": \"prop\"\n",
      "                }\n",
      "            },\n",
      "            \"_variables\": {\n",
      "                \"temp1\": {\n",
      "                    \"_varType\": \"eTemperature\",\n",
      "                    \"_varName\": \"Temperature\",\n",
      "                    \"_ID\": \"temp1\",\n",
      "                    \"_unit\": \"K\",\n",
      "                    \"_VariableBase__type\": \"var\"\n",
      "                },\n",
      "                \"moleFrac1\": {\n",
      "                    \"_varType\": \"eComponentComposition\",\n",
      "                    \"_varName\": \"Mole fraction\",\n",
      "                    \"_ID\": \"moleFrac1\",\n",
      "                    \"_unit\": \"\",\n",
      "                    \"_VariableBase__type\": \"var\",\n",
      "                    \"_compoundID\": \"id1\"\n",
      "                },\n",
      "                \"moleFrac2\": {\n",
      "                    \"_varType\": \"eComponentComposition\",\n",
      "                    \"_varName\": \"Mole fraction\",\n",
      "                    \"_ID\": \"moleFrac2\",\n",
      "                    \"_unit\": \"\",\n",
      "                    \"_VariableBase__type\": \"var\",\n",
      "                    \"_compoundID\": \"id2\"\n",
      "                }\n",
      "            },\n",
      "            \"_measurements\": {\n",
      "                \"meas1\": {\n",
      "                    \"_ID\": \"meas1\",\n",
      "                    \"_properties\": {\n",
      "                        \"visc1\": [\n",
      "                            {\n",
      "                                \"_measurementID\": \"meas1\",\n",
      "                                \"_value\": 10.0,\n",
      "                                \"_elementID\": \"visc1\",\n",
      "                                \"_uncertainty\": 0.1\n",
      "                            },\n",
      "                            {\n",
      "                                \"_measurementID\": \"meas1\",\n",
      "                                \"_value\": 10.0,\n",
      "                                \"_elementID\": \"visc1\",\n",
      "                                \"_uncertainty\": 0.1\n",
      "                            }\n",
      "                        ]\n",
      "                    },\n",
      "                    \"_variables\": {\n",
      "                        \"temp1\": [\n",
      "                            {\n",
      "                                \"_measurementID\": \"meas1\",\n",
      "                                \"_value\": 300.0,\n",
      "                                \"_elementID\": \"temp1\",\n",
      "                                \"_uncertainty\": 10.0\n",
      "                            },\n",
      "                            {\n",
      "                                \"_measurementID\": \"meas1\",\n",
      "                                \"_value\": 300.0,\n",
      "                                \"_elementID\": \"temp1\",\n",
      "                                \"_uncertainty\": 10.0\n",
      "                            }\n",
      "                        ],\n",
      "                        \"moleFrac1\": [\n",
      "                            {\n",
      "                                \"_measurementID\": \"meas1\",\n",
      "                                \"_value\": 0.2,\n",
      "                                \"_elementID\": \"moleFrac1\",\n",
      "                                \"_uncertainty\": 0.01\n",
      "                            },\n",
      "                            {\n",
      "                                \"_measurementID\": \"meas1\",\n",
      "                                \"_value\": 0.2,\n",
      "                                \"_elementID\": \"moleFrac1\",\n",
      "                                \"_uncertainty\": 0.01\n",
      "                            }\n",
      "                        ],\n",
      "                        \"moleFrac2\": [\n",
      "                            {\n",
      "                                \"_measurementID\": \"meas1\",\n",
      "                                \"_value\": 0.8,\n",
      "                                \"_elementID\": \"moleFrac2\",\n",
      "                                \"_uncertainty\": 0.02\n",
      "                            },\n",
      "                            {\n",
      "                                \"_measurementID\": \"meas1\",\n",
      "                                \"_value\": 0.8,\n",
      "                                \"_elementID\": \"moleFrac2\",\n",
      "                                \"_uncertainty\": 0.02\n",
      "                            }\n",
      "                        ]\n",
      "                    }\n",
      "                }\n",
      "            }\n",
      "        }\n",
      "    }\n",
      "}\n"
     ]
    }
   ],
   "metadata": {}
  },
  {
   "cell_type": "code",
   "execution_count": 11,
   "source": [
    "dataRep._DOI = \"DOI244\"\n",
    "print(dataRep)\n",
    "writeThermo(dataRep, \"filename\")\n",
    "\n"
   ],
   "outputs": [
    {
     "output_type": "error",
     "ename": "NameError",
     "evalue": "name 'dataRep' is not defined",
     "traceback": [
      "\u001b[0;31m---------------------------------------------------------------------------\u001b[0m",
      "\u001b[0;31mNameError\u001b[0m                                 Traceback (most recent call last)",
      "\u001b[0;32m<ipython-input-11-37fa124683c1>\u001b[0m in \u001b[0;36m<module>\u001b[0;34m\u001b[0m\n\u001b[0;32m----> 1\u001b[0;31m \u001b[0mdataRep\u001b[0m\u001b[0;34m.\u001b[0m\u001b[0m_DOI\u001b[0m \u001b[0;34m=\u001b[0m \u001b[0;34m\"DOI244\"\u001b[0m\u001b[0;34m\u001b[0m\u001b[0;34m\u001b[0m\u001b[0m\n\u001b[0m\u001b[1;32m      2\u001b[0m \u001b[0mprint\u001b[0m\u001b[0;34m(\u001b[0m\u001b[0mdataRep\u001b[0m\u001b[0;34m)\u001b[0m\u001b[0;34m\u001b[0m\u001b[0;34m\u001b[0m\u001b[0m\n\u001b[1;32m      3\u001b[0m \u001b[0mwriteThermo\u001b[0m\u001b[0;34m(\u001b[0m\u001b[0mdataRep\u001b[0m\u001b[0;34m,\u001b[0m \u001b[0;34m\"filename\"\u001b[0m\u001b[0;34m)\u001b[0m\u001b[0;34m\u001b[0m\u001b[0;34m\u001b[0m\u001b[0m\n\u001b[1;32m      4\u001b[0m \u001b[0;34m\u001b[0m\u001b[0m\n",
      "\u001b[0;31mNameError\u001b[0m: name 'dataRep' is not defined"
     ]
    }
   ],
   "metadata": {}
  },
  {
   "cell_type": "code",
   "execution_count": null,
   "source": [],
   "outputs": [],
   "metadata": {}
  }
 ],
 "metadata": {
  "interpreter": {
   "hash": "aee8b7b246df8f9039afb4144a1f6fd8d2ca17a180786b69acc140d282b71a49"
  },
  "kernelspec": {
   "name": "python3",
   "display_name": "Python 3.9.5 64-bit"
  },
  "language_info": {
   "codemirror_mode": {
    "name": "ipython",
    "version": 3
   },
   "file_extension": ".py",
   "mimetype": "text/x-python",
   "name": "python",
   "nbconvert_exporter": "python",
   "pygments_lexer": "ipython3",
   "version": "3.9.5"
  }
 },
 "nbformat": 4,
 "nbformat_minor": 2
}
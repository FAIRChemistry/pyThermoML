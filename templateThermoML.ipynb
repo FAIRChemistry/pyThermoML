{
 "cells": [
  {
   "cell_type": "markdown",
   "source": [
    "# *PyThermoML* - Import Template\r\n",
    "This template explains how *PyThermoML* can be used, to write data into ThermoML.\r\n",
    "\r\n",
    "**WARNING API is still changig. Only use under reservation.**\r\n",
    "\r\n",
    "\r\n",
    "Before usage make sure that you've installed json and lxml e. g. via pip."
   ],
   "metadata": {}
  },
  {
   "cell_type": "code",
   "execution_count": 19,
   "source": [
    "from core import PureOrMixtureData, Measurement, DataReport, Compound, DataPoint"
   ],
   "outputs": [],
   "metadata": {}
  },
  {
   "cell_type": "markdown",
   "source": [
    "## DataReport\n",
    "First create a dataReport instance, in which you can declare the title, the DOI and the authors of the referred paper.\n"
   ],
   "metadata": {}
  },
  {
   "cell_type": "code",
   "execution_count": 20,
   "source": [
    "dataReport = DataReport(\"Title of referred paper\", \"DOI of referred paper\", \"author 1\", \"author 2\")"
   ],
   "outputs": [],
   "metadata": {}
  },
  {
   "cell_type": "markdown",
   "source": [
    "## Compounds\n",
    "After that you can declare the compounds which you have used in your chemical system."
   ],
   "metadata": {}
  },
  {
   "cell_type": "code",
   "execution_count": 21,
   "source": [
    "comp1 = Compound(\"id1\", \"inhi1\", \"inchikey1\", \"smiles1\", \"water\")\r\n",
    "comp2 = Compound(\"id2\", \"inchi2\", \"inchikey2\", \"smiles2\", \"ethanol\")"
   ],
   "outputs": [],
   "metadata": {}
  },
  {
   "cell_type": "markdown",
   "source": [
    "The attributes of Compounds are an internal ID, the inchi code, inchi key, smiles code and a common Name. In the next step, add the compounds to dataReport. With the ID you can reference to the compound later."
   ],
   "metadata": {}
  },
  {
   "cell_type": "code",
   "execution_count": 22,
   "source": [
    "comp1_ID = dataReport.addCompound(comp1)\r\n",
    "comp2_ID = dataReport.addCompound(comp2)"
   ],
   "outputs": [],
   "metadata": {}
  },
  {
   "cell_type": "markdown",
   "source": [
    "## Pure or mixture data\n",
    "The main part begins here: Declare in a PureOrMixtureData object which compounds you have used, by calling them by their ID. Give your experiment also an ID and a name."
   ],
   "metadata": {}
  },
  {
   "cell_type": "code",
   "execution_count": 23,
   "source": [
    "experiment = PureOrMixtureData(\"ID\", \"experiement1\", comp1_ID, comp2_ID)"
   ],
   "outputs": [],
   "metadata": {}
  },
  {
   "cell_type": "markdown",
   "source": [
    "## Declaration of Property and Variable\n",
    "Declare your examined property (e.g. the viscosity) and variables (e. g. the temperature, mole fraction) of the experiment/simulation.\n",
    "\n",
    "Concerning the property, enter again an ID and indicate whether you've done a simulation or an experiment.\n",
    "The variable has also an ID. Be aware, that there are compound specific variables/properties (e. g. mole fraction). The function returns an ID to refer to respective property/variable."
   ],
   "metadata": {}
  },
  {
   "cell_type": "code",
   "execution_count": 24,
   "source": [
    "from props.transportproperties import Viscosity\r\n",
    "from vars.componentcomposition import MoleFraction\r\n",
    "from vars.temperature import Temperature\r\n",
    "\r\n",
    "\r\n",
    "#property definitions\r\n",
    "visc = Viscosity(ID='visc1', method=\"simulation\")\r\n",
    "# Variable definitions\r\n",
    "temp = Temperature(ID='temp1')\r\n",
    "frac1 = MoleFraction(ID='moleFrac1', compoundID=comp1_ID)\r\n",
    "frac2 = MoleFraction(ID='moleFrac2', compoundID=comp2_ID)"
   ],
   "outputs": [],
   "metadata": {}
  },
  {
   "cell_type": "markdown",
   "source": [
    "This API provides the following properties:\n",
    "* volumetric properties:\n",
    "    * mass density (kg/m3)\n",
    "* heat capacity properties:\n",
    "    * molar heat capacity at constant pressure (J/K/mol)\n",
    "    * molar heat capacity at constant volume (J/K/mol)\n",
    "* transport properties:\n",
    "    * viscosity (Pa*s)\n",
    "    * kinematic viscosity (m2/s)\n",
    "    * microviscosity (Pa*s)\n",
    "    * self dffusion coefficient (m2/s)\n",
    "* bioproperties:\n",
    "    * peakTemperature (K)\n",
    "* other:\n",
    "    * surface tension (N/m) \n",
    "    * speed of sound (m/s)\n",
    "\n",
    "This API provides the following variables:\n",
    "* component composition:\n",
    "    * mole fraction ()\n",
    "* temperatures:\n",
    "    * temperature(K)\n",
    "    * upper temperature(K)\n",
    "    * lower temperature(K)\n",
    "* pressure:\n",
    "    * pressure (kPa)\n",
    "    \n",
    "\n",
    "The units are fixed and cannot be changed!\n",
    "For usage import the respective packages."
   ],
   "metadata": {}
  },
  {
   "cell_type": "markdown",
   "source": [
    "Add initialized properties/variables to experiement. The experiment is now ready to get filled with data.\n"
   ],
   "metadata": {}
  },
  {
   "cell_type": "code",
   "execution_count": 25,
   "source": [
    "viscID = experiment.addProperty(visc)\r\n",
    "tempID = experiment.addVariable(temp)\r\n",
    "frac1ID = experiment.addVariable(frac1)\r\n",
    "frac2ID = experiment.addVariable(frac2)"
   ],
   "outputs": [],
   "metadata": {}
  },
  {
   "cell_type": "markdown",
   "source": [
    "## Add data to experiment\n",
    "Data can be added to experiment by creating a Measurement object. It contains again a name, a values dictionary and a reference to the expereiment. First declare the values dictionary.\n",
    "Therfore use the ID of the property/variable as key and enter the values."
   ],
   "metadata": {}
  },
  {
   "cell_type": "code",
   "execution_count": 26,
   "source": [
    "measurementID = \"meas1\"\r\n",
    "\r\n",
    "viscDataPoint = DataPoint(\r\n",
    "    measurementID=measurementID,\r\n",
    "    value=0.001,\r\n",
    "    propID=viscID,\r\n",
    "    uncertainty=0.1\r\n",
    ")\r\n",
    "\r\n",
    "tempDataPoint = DataPoint(\r\n",
    "    measurementID=measurementID,\r\n",
    "    value=300.0,\r\n",
    "    varID=tempID,\r\n",
    "    uncertainty=10.0\r\n",
    ")\r\n",
    "\r\n",
    "frac1DataPoint = DataPoint(\r\n",
    "    measurementID=measurementID,\r\n",
    "    value=0.5,\r\n",
    "    varID=frac1ID,\r\n",
    "    uncertainty=0.01\r\n",
    ")\r\n",
    "\r\n",
    "frac2DataPoint = DataPoint(\r\n",
    "    measurementID=measurementID,\r\n",
    "    value=0.5,\r\n",
    "    varID=frac2ID,\r\n",
    "    uncertainty=0.02\r\n",
    ")\r\n",
    "\r\n",
    "datapoints = [viscDataPoint, tempDataPoint, frac1DataPoint, frac2DataPoint]"
   ],
   "outputs": [],
   "metadata": {}
  },
  {
   "cell_type": "markdown",
   "source": [
    "In this **example** (T = 300K, mole fraction of water and ethanol = 1/2) the mixture had a viscosity of 0.001 Pa*s.\r\n",
    "\r\n",
    "For each variable and property an uncertainty can be declared. For variables this API stores the **expanded uncertainty**. It is a quantity defining an interval about the result of a measurement that may be expected to encompass a large fraction of the distribution of values that could reasonably be attributed to the measurand. For properties this API stores the **combined standard uncertainty**."
   ],
   "metadata": {}
  },
  {
   "cell_type": "code",
   "execution_count": 27,
   "source": [
    "# add Measurement to experiment\r\n",
    "experiment.addMeasurement(dataPoints=datapoints)\r\n",
    "\r\n",
    "# add experiment to dataReport\r\n",
    "dataReport.addPureOrMixtureData(experiment)\r\n",
    "print(dataReport)"
   ],
   "outputs": [
    {
     "output_type": "stream",
     "name": "stdout",
     "text": [
      "{\n",
      "    \"_title\": \"Title of referred paper\",\n",
      "    \"_DOI\": \"DOI of referred paper\",\n",
      "    \"_authors\": {\n",
      "        \"_author0\": \"author 1\",\n",
      "        \"_author1\": \"author 2\"\n",
      "    },\n",
      "    \"compounds\": {\n",
      "        \"id1\": {\n",
      "            \"_Compound__type\": \"comp\",\n",
      "            \"_ID\": \"id1\",\n",
      "            \"_standardInchi\": \"inhi1\",\n",
      "            \"_standardInchiKey\": \"inchikey1\",\n",
      "            \"_smiles\": \"smiles1\",\n",
      "            \"_commonName\": \"water\"\n",
      "        },\n",
      "        \"id2\": {\n",
      "            \"_Compound__type\": \"comp\",\n",
      "            \"_ID\": \"id2\",\n",
      "            \"_standardInchi\": \"inchi2\",\n",
      "            \"_standardInchiKey\": \"inchikey2\",\n",
      "            \"_smiles\": \"smiles2\",\n",
      "            \"_commonName\": \"ethanol\"\n",
      "        }\n",
      "    },\n",
      "    \"pureOrMixtureData\": {\n",
      "        \"ID\": {\n",
      "            \"_ID\": \"ID\",\n",
      "            \"comps\": [\n",
      "                \"experiement1\",\n",
      "                \"id1\",\n",
      "                \"id2\"\n",
      "            ],\n",
      "            \"_properties\": {\n",
      "                \"visc1\": {\n",
      "                    \"_propName\": \"Viscosity\",\n",
      "                    \"_ID\": \"visc1\",\n",
      "                    \"_propGroup\": \"TransportProp\",\n",
      "                    \"_unit\": \"Pa*s\",\n",
      "                    \"_method\": \"simulation\",\n",
      "                    \"_PropertyBase__type\": \"prop\"\n",
      "                }\n",
      "            },\n",
      "            \"_variables\": {\n",
      "                \"temp1\": {\n",
      "                    \"_varType\": \"eTemperature\",\n",
      "                    \"_varName\": \"Temperature\",\n",
      "                    \"_ID\": \"temp1\",\n",
      "                    \"_unit\": \"K\",\n",
      "                    \"_VariableBase__type\": \"var\"\n",
      "                },\n",
      "                \"moleFrac1\": {\n",
      "                    \"_varType\": \"eComponentComposition\",\n",
      "                    \"_varName\": \"Mole fraction\",\n",
      "                    \"_ID\": \"moleFrac1\",\n",
      "                    \"_unit\": \"\",\n",
      "                    \"_compoundID\": \"id1\",\n",
      "                    \"_VariableBase__type\": \"var\"\n",
      "                },\n",
      "                \"moleFrac2\": {\n",
      "                    \"_varType\": \"eComponentComposition\",\n",
      "                    \"_varName\": \"Mole fraction\",\n",
      "                    \"_ID\": \"moleFrac2\",\n",
      "                    \"_unit\": \"\",\n",
      "                    \"_compoundID\": \"id2\",\n",
      "                    \"_VariableBase__type\": \"var\"\n",
      "                }\n",
      "            },\n",
      "            \"_measurements\": {\n",
      "                \"meas1\": {\n",
      "                    \"_ID\": \"meas1\",\n",
      "                    \"_properties\": {\n",
      "                        \"visc1\": [\n",
      "                            {\n",
      "                                \"_measurementID\": \"meas1\",\n",
      "                                \"_value\": 0.001,\n",
      "                                \"_elementID\": \"visc1\",\n",
      "                                \"_uncertainty\": 0.1\n",
      "                            }\n",
      "                        ]\n",
      "                    },\n",
      "                    \"_variables\": {\n",
      "                        \"temp1\": [\n",
      "                            {\n",
      "                                \"_measurementID\": \"meas1\",\n",
      "                                \"_value\": 300.0,\n",
      "                                \"_elementID\": \"temp1\",\n",
      "                                \"_uncertainty\": 10.0\n",
      "                            }\n",
      "                        ],\n",
      "                        \"moleFrac1\": [\n",
      "                            {\n",
      "                                \"_measurementID\": \"meas1\",\n",
      "                                \"_value\": 0.5,\n",
      "                                \"_elementID\": \"moleFrac1\",\n",
      "                                \"_uncertainty\": 0.01\n",
      "                            }\n",
      "                        ],\n",
      "                        \"moleFrac2\": [\n",
      "                            {\n",
      "                                \"_measurementID\": \"meas1\",\n",
      "                                \"_value\": 0.5,\n",
      "                                \"_elementID\": \"moleFrac2\",\n",
      "                                \"_uncertainty\": 0.02\n",
      "                            }\n",
      "                        ]\n",
      "                    }\n",
      "                }\n",
      "            }\n",
      "        }\n",
      "    }\n",
      "}\n"
     ]
    }
   ],
   "metadata": {}
  },
  {
   "cell_type": "markdown",
   "source": [
    "Congratulations your DataReport object has been created sucessfully. Now you can write your DataReport to a ThermoML file by using the writeThermo() function. If you want to modify your ThermoML file you can read it by readThermo()"
   ],
   "metadata": {}
  },
  {
   "cell_type": "code",
   "execution_count": 49,
   "source": [
    "from tools.readTools import readThermo\r\n",
    "from tools.writeTools import writeThermo\r\n",
    "\r\n",
    "\r\n",
    "writeThermo(dataReport, filename='testThermo')\r\n",
    "readThermo(path=\"testThermo.xml\")"
   ],
   "outputs": [
    {
     "output_type": "stream",
     "name": "stdout",
     "text": [
      "0.1\n",
      "{\n",
      "    \"_measurementID\": \"measID\",\n",
      "    \"_value\": 0.001,\n",
      "    \"_elementID\": \"visc1\",\n",
      "    \"_uncertainty\": 0.1\n",
      "}\n",
      "{\n",
      "    \"_title\": \"Title of referred paper\",\n",
      "    \"_DOI\": \"DOI of referred paper\",\n",
      "    \"_authors\": {\n",
      "        \"_author0\": \"author 1\",\n",
      "        \"_author1\": \"author 2\"\n",
      "    },\n",
      "    \"compounds\": {\n",
      "        \"id1\": {\n",
      "            \"_Compound__type\": \"comp\",\n",
      "            \"_ID\": \"id1\",\n",
      "            \"_standardInchi\": \"inhi1\",\n",
      "            \"_standardInchiKey\": \"inchikey1\",\n",
      "            \"_smiles\": \"smiles1\",\n",
      "            \"_commonName\": \"water\"\n",
      "        },\n",
      "        \"id2\": {\n",
      "            \"_Compound__type\": \"comp\",\n",
      "            \"_ID\": \"id2\",\n",
      "            \"_standardInchi\": \"inchi2\",\n",
      "            \"_standardInchiKey\": \"inchikey2\",\n",
      "            \"_smiles\": \"smiles2\",\n",
      "            \"_commonName\": \"ethanol\"\n",
      "        }\n",
      "    },\n",
      "    \"pureOrMixtureData\": {\n",
      "        \"ID\": {\n",
      "            \"_ID\": \"ID\",\n",
      "            \"comps\": [\n",
      "                \"id1\",\n",
      "                \"id2\"\n",
      "            ],\n",
      "            \"_properties\": {\n",
      "                \"visc1\": {\n",
      "                    \"_propName\": \"Viscosity\",\n",
      "                    \"_ID\": \"visc1\",\n",
      "                    \"_propGroup\": \"TransportProp\",\n",
      "                    \"_unit\": \"Pa*s\",\n",
      "                    \"_method\": \"simulation\",\n",
      "                    \"_PropertyBase__type\": \"prop\"\n",
      "                }\n",
      "            },\n",
      "            \"_variables\": {\n",
      "                \"temp1\": {\n",
      "                    \"_varType\": \"eTemperature\",\n",
      "                    \"_varName\": \"Temperature\",\n",
      "                    \"_ID\": \"temp1\",\n",
      "                    \"_unit\": \"K\",\n",
      "                    \"_VariableBase__type\": \"var\"\n",
      "                },\n",
      "                \"moleFrac1\": {\n",
      "                    \"_varType\": \"eComponentComposition\",\n",
      "                    \"_varName\": \"Mole fraction\",\n",
      "                    \"_ID\": \"moleFrac1\",\n",
      "                    \"_unit\": \"\",\n",
      "                    \"_compoundID\": \"id1\",\n",
      "                    \"_VariableBase__type\": \"var\"\n",
      "                },\n",
      "                \"moleFrac2\": {\n",
      "                    \"_varType\": \"eComponentComposition\",\n",
      "                    \"_varName\": \"Mole fraction\",\n",
      "                    \"_ID\": \"moleFrac2\",\n",
      "                    \"_unit\": \"\",\n",
      "                    \"_compoundID\": \"id2\",\n",
      "                    \"_VariableBase__type\": \"var\"\n",
      "                }\n",
      "            },\n",
      "            \"_measurements\": {\n",
      "                \"measID\": {\n",
      "                    \"_ID\": \"measID\",\n",
      "                    \"_properties\": {\n",
      "                        \"visc1\": [\n",
      "                            {\n",
      "                                \"_measurementID\": \"measID\",\n",
      "                                \"_value\": 0.001,\n",
      "                                \"_elementID\": \"visc1\",\n",
      "                                \"_uncertainty\": 0.1\n",
      "                            }\n",
      "                        ]\n",
      "                    },\n",
      "                    \"_variables\": {\n",
      "                        \"temp1\": [\n",
      "                            {\n",
      "                                \"_measurementID\": \"measID\",\n",
      "                                \"_value\": 300.0,\n",
      "                                \"_elementID\": \"temp1\",\n",
      "                                \"_uncertainty\": 10.0\n",
      "                            }\n",
      "                        ],\n",
      "                        \"moleFrac1\": [\n",
      "                            {\n",
      "                                \"_measurementID\": \"measID\",\n",
      "                                \"_value\": 0.5,\n",
      "                                \"_elementID\": \"moleFrac1\",\n",
      "                                \"_uncertainty\": 0.01\n",
      "                            }\n",
      "                        ],\n",
      "                        \"moleFrac2\": [\n",
      "                            {\n",
      "                                \"_measurementID\": \"measID\",\n",
      "                                \"_value\": 0.5,\n",
      "                                \"_elementID\": \"moleFrac2\",\n",
      "                                \"_uncertainty\": 0.02\n",
      "                            }\n",
      "                        ]\n",
      "                    }\n",
      "                }\n",
      "            }\n",
      "        }\n",
      "    }\n",
      "}\n"
     ]
    }
   ],
   "metadata": {}
  }
 ],
 "metadata": {
  "interpreter": {
   "hash": "8647b8584ee8e2356f562710b4bb5117ab2222b2a64053b0ea4cdd65c32e7ccf"
  },
  "kernelspec": {
   "name": "python3",
   "display_name": "Python 3.9.4 64-bit (system)"
  },
  "language_info": {
   "codemirror_mode": {
    "name": "ipython",
    "version": 3
   },
   "file_extension": ".py",
   "mimetype": "text/x-python",
   "name": "python",
   "nbconvert_exporter": "python",
   "pygments_lexer": "ipython3",
   "version": "3.9.4"
  }
 },
 "nbformat": 4,
 "nbformat_minor": 2
}
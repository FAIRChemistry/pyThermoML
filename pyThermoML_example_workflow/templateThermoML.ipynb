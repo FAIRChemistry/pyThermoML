{
 "cells": [
  {
   "cell_type": "markdown",
   "metadata": {},
   "source": [
    "# *PyThermoML* - Examplary Workflow\n",
    "This template illustreates how *PyThermoML* can be used. \n",
    "\n",
    "1. DataReport object creation directly\n",
    "2. Write DataReport object to ThermoML\n",
    "3. Reading from ThermoML file for DataReport object creation\n",
    "4. Read from JSON file for DataReport object creation\n",
    "5. DaRUS data access\n",
    "\n",
    "Before usage make sure that you've installed pyThermML as described in the README.md"
   ]
  },
  {
   "cell_type": "code",
   "execution_count": 1,
   "metadata": {},
   "outputs": [],
   "source": [
    "from pythermo.thermoml.core import PureOrMixtureData, DataReport, Compound, DataPoint\n",
    "\n",
    "from pythermo.thermoml.vars.componentcomposition import ComponentCompositionBase\n",
    "from pythermo.thermoml.vars.temperature import TemperatureBase\n",
    "from pythermo.thermoml.props.transportproperties import TransportProperty\n",
    "\n",
    "from pythermo.thermoml.props.volumetricproperties import VolumetricProperty\n",
    "from pythermo.thermoml.tools.writeTools import ThermoMLWriter\n",
    "from pythermo.thermoml.tools.readTools import ThermoMLReader"
   ]
  },
  {
   "cell_type": "markdown",
   "metadata": {},
   "source": [
    "## 1. DataReport object creation\n",
    "First a DataReport instance can be created in which you can declare the title and the DOI of a referred paper and the authors of the dataset."
   ]
  },
  {
   "cell_type": "code",
   "execution_count": 2,
   "metadata": {},
   "outputs": [],
   "source": [
    "\n",
    "# title, DOI, authors\n",
    "authors = {\n",
    "    \"author 1\": \"authror1\",\n",
    "    \"author 2\": \"author2\",\n",
    "    \"author 3\": \"author3\"\n",
    "}\n",
    "\n",
    "dataReport = DataReport(title=\"Title of referred paper\",\n",
    "                        DOI=\"Doi of referred paper\", authors=authors)"
   ]
  },
  {
   "cell_type": "markdown",
   "metadata": {},
   "source": [
    "## Compounds\n",
    "After that the compounds of a chemical system can be declared. Giving an ID is mandatory."
   ]
  },
  {
   "cell_type": "code",
   "execution_count": 3,
   "metadata": {},
   "outputs": [],
   "source": [
    "comp1 = Compound(ID=1, standardInchI=\"inhi1\", standardInchIKey=\"inchikey1\", smiles=\"smiles1\", commonName=\"water\")\n",
    "comp2 = Compound(ID=2, standardInchI=\"inchi2\", standardInchIKey=\"inchikey2\", smiles=\"smiles2\", commonName=\"ethanol\")"
   ]
  },
  {
   "cell_type": "markdown",
   "metadata": {},
   "source": [
    "The attributes of Compounds are an ID, the inchi code, inchi key, smiles code and a common name. Add the compounds to the dataReport object. With the ID you can refer to the compound later."
   ]
  },
  {
   "cell_type": "code",
   "execution_count": 4,
   "metadata": {},
   "outputs": [],
   "source": [
    "comp1_ID = dataReport.addCompound(comp1)\n",
    "comp2_ID = dataReport.addCompound(comp2)"
   ]
  },
  {
   "cell_type": "markdown",
   "metadata": {},
   "source": [
    "## Pure or mixture data\n",
    "In objects of the PureOrMixtureData class the actual data is stored: Declare in a PureOrMixtureData object which compounds you have used, by putting them into an array and calling them by their ID. Give your PureOrMixtureData object also an ID. (In our case \"pom1\")"
   ]
  },
  {
   "cell_type": "code",
   "execution_count": 5,
   "metadata": {},
   "outputs": [],
   "source": [
    "comps = [comp1_ID, comp2_ID]\n",
    "experiment = PureOrMixtureData(ID=1, comps=comps, compiler=\"Matthias Gueltig\")"
   ]
  },
  {
   "cell_type": "markdown",
   "metadata": {},
   "source": [
    "## Declaration of Property and Variable\n",
    "Declare your examined property (e.g. the viscosity) and variables (e. g. the temperature, mole fraction) of the experiment/simulation.\n",
    "\n",
    "Concerning the property, enter again an ID and indicate whether you've done a simulation or an experiment.\n",
    "The variable has also an ID. Be aware, that there are compound specific variables/properties (e. g. mole fraction). The function returns an ID to refer to respective property/variable."
   ]
  },
  {
   "cell_type": "code",
   "execution_count": 6,
   "metadata": {},
   "outputs": [],
   "source": [
    "dens = VolumetricProperty.massDensity(ID=1, method='simulation')\n",
    "sdiffCoeff1 = TransportProperty.selfDiffusionCoefficient(\n",
    "    ID=2, method='simulation', compoundID=comp1_ID)\n",
    "sdiffCoeff2 = TransportProperty.selfDiffusionCoefficient(\n",
    "    ID=3, method='simulation', compoundID=comp2_ID)\n",
    "\n",
    "# Variable definitions\n",
    "temp = TemperatureBase.temperature(ID=1)\n",
    "\n",
    "frac1 = ComponentCompositionBase.moleFraction(2, comp1_ID)\n",
    "frac2 = ComponentCompositionBase.moleFraction(3, comp2_ID)"
   ]
  },
  {
   "cell_type": "markdown",
   "metadata": {},
   "source": [
    "This API provides the following properties:\n",
    "* volumetric properties:\n",
    "    * mass density (kg/m3)\n",
    "* heat capacity properties:\n",
    "    * molar heat capacity at constant pressure (J/K/mol)\n",
    "    * molar heat capacity at constant volume (J/K/mol)\n",
    "* transport properties:\n",
    "    * viscosity (Pa*s)\n",
    "    * kinematic viscosity (m2/s)\n",
    "    * self dffusion coefficient (m2/s)\n",
    "* bioproperties:\n",
    "    * peakTemperature (K)\n",
    "* other:\n",
    "    * surface tension (N/m) \n",
    "    * speed of sound (m/s)\n",
    "\n",
    "This API provides the following variables:\n",
    "* component composition:\n",
    "    * mole fraction ()\n",
    "* temperatures:\n",
    "    * temperature(K)\n",
    "    * upper temperature(K)\n",
    "    * lower temperature(K)\n",
    "* pressure:\n",
    "    * pressure (kPa)\n",
    "    \n",
    "\n",
    "The units are fixed and cannot be changed!\n",
    "For usage import the respective packages."
   ]
  },
  {
   "cell_type": "markdown",
   "metadata": {},
   "source": [
    "Add initialized properties/variables to experiement. The experiment is now ready to get filled with data.\n"
   ]
  },
  {
   "cell_type": "code",
   "execution_count": 7,
   "metadata": {},
   "outputs": [],
   "source": [
    "densID = experiment.addProperty(dens)\n",
    "dffCoeff1ID = experiment.addProperty(sdiffCoeff1)\n",
    "dffCoeff2ID = experiment.addProperty(sdiffCoeff2)\n",
    "tempID = experiment.addVariable(temp)\n",
    "frac1ID = experiment.addVariable(frac1)\n",
    "frac2ID = experiment.addVariable(frac2)"
   ]
  },
  {
   "cell_type": "markdown",
   "metadata": {},
   "source": [
    "## Add data to experiment\n",
    "Data can be added to experiment by creating Datapoints. Each Datapoint needs an identifier on which measurement you refer to, the measured value and the property/variable used."
   ]
  },
  {
   "cell_type": "code",
   "execution_count": 8,
   "metadata": {},
   "outputs": [],
   "source": [
    "measurementID = 1\n",
    "\n",
    "viscDataPoint = DataPoint(\n",
    "    measurementID=measurementID,\n",
    "    value=10.0,\n",
    "    propID=densID,\n",
    ")\n",
    "\n",
    "sdiff1DataPoint1 = DataPoint(\n",
    "    measurementID=measurementID,\n",
    "    value=10334,\n",
    "    propID=dffCoeff1ID\n",
    ")\n",
    "\n",
    "sdiff2DataPoint1 = DataPoint(\n",
    "    measurementID=measurementID,\n",
    "    value=123123,\n",
    "    propID=dffCoeff2ID\n",
    ")\n",
    "\n",
    "tempDataPoint = DataPoint(\n",
    "    measurementID=measurementID,\n",
    "    value=300.0,\n",
    "    varID=tempID,\n",
    ")\n",
    "\n",
    "frac1DataPoint = DataPoint(\n",
    "    measurementID=measurementID,\n",
    "    value=0.2,\n",
    "    varID=frac1ID,\n",
    ")\n",
    "\n",
    "frac2DataPoint = DataPoint(\n",
    "    measurementID=measurementID,\n",
    "    value=0.8,\n",
    "    varID=frac2ID,\n",
    ")\n",
    "\n",
    "measurementID = 2\n",
    "sdiff1DataPoint2 = DataPoint(\n",
    "    measurementID=measurementID,\n",
    "    value=10334,\n",
    "    propID=dffCoeff1ID\n",
    ")\n",
    "\n",
    "sdiff2DataPoint2 = DataPoint(\n",
    "    measurementID=measurementID,\n",
    "    value=123123,\n",
    "    propID=dffCoeff2ID\n",
    ")\n",
    "viscDataPoint2 = DataPoint(\n",
    "    measurementID=measurementID,\n",
    "    value=1000.0,\n",
    "    propID=densID,\n",
    "    uncertainty=0.1\n",
    ")\n",
    "\n",
    "tempDataPoint2 = DataPoint(\n",
    "    measurementID=measurementID,\n",
    "    value=1000.0,\n",
    "    varID=tempID,\n",
    "    uncertainty=10.0\n",
    ")\n",
    "\n",
    "frac1DataPoint2 = DataPoint(\n",
    "    measurementID=measurementID,\n",
    "    value=1000.0,\n",
    "    varID=frac1ID,\n",
    "    uncertainty=0.01\n",
    ")\n",
    "\n",
    "frac2DataPoint2 = DataPoint(\n",
    "    measurementID=measurementID,\n",
    "    value=1000,\n",
    "    varID=frac2ID,\n",
    "    uncertainty=0.02\n",
    ")\n",
    "\n",
    "datapoints = [viscDataPoint, sdiff1DataPoint1, sdiff2DataPoint1,\n",
    "              tempDataPoint, frac1DataPoint, frac2DataPoint]\n",
    "\n",
    "datapoints2 = [viscDataPoint2, sdiff1DataPoint2, sdiff2DataPoint2, tempDataPoint2,\n",
    "               frac1DataPoint2, frac2DataPoint2]"
   ]
  },
  {
   "cell_type": "markdown",
   "metadata": {},
   "source": [
    "Note: the chosen values don't have any chemical meaning.\n",
    "\n",
    "For each variable and property an uncertainty can be declared. For variables pyThermoML integrates the **standard deviation** around a given quantity. Concerning properties the API integrates the **standard deviation** too. There are no possibilities to integrate combined uncertainties. "
   ]
  },
  {
   "cell_type": "code",
   "execution_count": 9,
   "metadata": {},
   "outputs": [
    {
     "data": {
      "text/plain": [
       "1"
      ]
     },
     "execution_count": 9,
     "metadata": {},
     "output_type": "execute_result"
    }
   ],
   "source": [
    "# add Measurement to experiment\n",
    "experiment.addMeasurement(dataPoints=datapoints)\n",
    "experiment.addMeasurement(dataPoints=datapoints2)\n",
    "\n",
    "# add experiment to dataReport\n",
    "dataReport.addPureOrMixtureData(experiment)"
   ]
  },
  {
   "cell_type": "code",
   "execution_count": 10,
   "metadata": {},
   "outputs": [
    {
     "name": "stdout",
     "output_type": "stream",
     "text": [
      "{\n",
      "    \"title\": \"Title of referred paper\",\n",
      "    \"DOI\": \"Doi of referred paper\",\n",
      "    \"authors\": {\n",
      "        \"author 1\": \"authror1\",\n",
      "        \"author 2\": \"author2\",\n",
      "        \"author 3\": \"author3\"\n",
      "    },\n",
      "    \"compounds\": {\n",
      "        \"1\": {\n",
      "            \"ID\": 1,\n",
      "            \"standardInchI\": \"inhi1\",\n",
      "            \"standardInchIKey\": \"inchikey1\",\n",
      "            \"smiles\": \"smiles1\",\n",
      "            \"commonName\": \"water\"\n",
      "        },\n",
      "        \"2\": {\n",
      "            \"ID\": 2,\n",
      "            \"standardInchI\": \"inchi2\",\n",
      "            \"standardInchIKey\": \"inchikey2\",\n",
      "            \"smiles\": \"smiles2\",\n",
      "            \"commonName\": \"ethanol\"\n",
      "        }\n",
      "    },\n",
      "    \"pureOrMixtureData\": {\n",
      "        \"1\": {\n",
      "            \"ID\": 1,\n",
      "            \"compiler\": \"Matthias Gueltig\",\n",
      "            \"comps\": [\n",
      "                \"1\",\n",
      "                \"2\"\n",
      "            ],\n",
      "            \"properties\": {\n",
      "                \"1\": {\n",
      "                    \"propName\": \"Mass density\",\n",
      "                    \"propGroup\": \"VolumetricProp\",\n",
      "                    \"ID\": 1,\n",
      "                    \"unit\": \"kg/m3\",\n",
      "                    \"method\": \"simulation\"\n",
      "                },\n",
      "                \"2\": {\n",
      "                    \"propName\": \"Self diffusion coefficient\",\n",
      "                    \"propGroup\": \"TransportProp\",\n",
      "                    \"ID\": 2,\n",
      "                    \"unit\": \"m2/s\",\n",
      "                    \"method\": \"simulation\",\n",
      "                    \"compoundID\": 1\n",
      "                },\n",
      "                \"3\": {\n",
      "                    \"propName\": \"Self diffusion coefficient\",\n",
      "                    \"propGroup\": \"TransportProp\",\n",
      "                    \"ID\": 3,\n",
      "                    \"unit\": \"m2/s\",\n",
      "                    \"method\": \"simulation\",\n",
      "                    \"compoundID\": 2\n",
      "                }\n",
      "            },\n",
      "            \"variables\": {\n",
      "                \"1\": {\n",
      "                    \"varType\": \"eTemperature\",\n",
      "                    \"varName\": \"Temperature\",\n",
      "                    \"ID\": 1,\n",
      "                    \"unit\": \"K\"\n",
      "                },\n",
      "                \"2\": {\n",
      "                    \"varType\": \"eComponentComposition\",\n",
      "                    \"varName\": \"Mole fraction\",\n",
      "                    \"ID\": 2,\n",
      "                    \"unit\": \"\",\n",
      "                    \"compoundID\": 1\n",
      "                },\n",
      "                \"3\": {\n",
      "                    \"varType\": \"eComponentComposition\",\n",
      "                    \"varName\": \"Mole fraction\",\n",
      "                    \"ID\": 3,\n",
      "                    \"unit\": \"\",\n",
      "                    \"compoundID\": 2\n",
      "                }\n",
      "            },\n",
      "            \"measurements\": {\n",
      "                \"1\": {\n",
      "                    \"ID\": 1,\n",
      "                    \"properties\": {\n",
      "                        \"1\": {\n",
      "                            \"measurementID\": 1,\n",
      "                            \"value\": 10.0,\n",
      "                            \"propID\": 1,\n",
      "                            \"data_point_type\": \"Property\",\n",
      "                            \"elementID\": 1\n",
      "                        },\n",
      "                        \"2\": {\n",
      "                            \"measurementID\": 1,\n",
      "                            \"value\": 10334.0,\n",
      "                            \"propID\": 2,\n",
      "                            \"data_point_type\": \"Property\",\n",
      "                            \"elementID\": 2\n",
      "                        },\n",
      "                        \"3\": {\n",
      "                            \"measurementID\": 1,\n",
      "                            \"value\": 123123.0,\n",
      "                            \"propID\": 3,\n",
      "                            \"data_point_type\": \"Property\",\n",
      "                            \"elementID\": 3\n",
      "                        }\n",
      "                    },\n",
      "                    \"variables\": {\n",
      "                        \"1\": {\n",
      "                            \"measurementID\": 1,\n",
      "                            \"value\": 300.0,\n",
      "                            \"varID\": 1,\n",
      "                            \"data_point_type\": \"Variable\",\n",
      "                            \"elementID\": 1\n",
      "                        },\n",
      "                        \"2\": {\n",
      "                            \"measurementID\": 1,\n",
      "                            \"value\": 0.2,\n",
      "                            \"varID\": 2,\n",
      "                            \"data_point_type\": \"Variable\",\n",
      "                            \"elementID\": 2\n",
      "                        },\n",
      "                        \"3\": {\n",
      "                            \"measurementID\": 1,\n",
      "                            \"value\": 0.8,\n",
      "                            \"varID\": 3,\n",
      "                            \"data_point_type\": \"Variable\",\n",
      "                            \"elementID\": 3\n",
      "                        }\n",
      "                    }\n",
      "                },\n",
      "                \"2\": {\n",
      "                    \"ID\": 2,\n",
      "                    \"properties\": {\n",
      "                        \"1\": {\n",
      "                            \"measurementID\": 2,\n",
      "                            \"value\": 1000.0,\n",
      "                            \"propID\": 1,\n",
      "                            \"uncertainty\": 0.1,\n",
      "                            \"data_point_type\": \"Property\",\n",
      "                            \"elementID\": 1\n",
      "                        },\n",
      "                        \"2\": {\n",
      "                            \"measurementID\": 2,\n",
      "                            \"value\": 10334.0,\n",
      "                            \"propID\": 2,\n",
      "                            \"data_point_type\": \"Property\",\n",
      "                            \"elementID\": 2\n",
      "                        },\n",
      "                        \"3\": {\n",
      "                            \"measurementID\": 2,\n",
      "                            \"value\": 123123.0,\n",
      "                            \"propID\": 3,\n",
      "                            \"data_point_type\": \"Property\",\n",
      "                            \"elementID\": 3\n",
      "                        }\n",
      "                    },\n",
      "                    \"variables\": {\n",
      "                        \"1\": {\n",
      "                            \"measurementID\": 2,\n",
      "                            \"value\": 1000.0,\n",
      "                            \"varID\": 1,\n",
      "                            \"uncertainty\": 10.0,\n",
      "                            \"data_point_type\": \"Variable\",\n",
      "                            \"elementID\": 1\n",
      "                        },\n",
      "                        \"2\": {\n",
      "                            \"measurementID\": 2,\n",
      "                            \"value\": 1000.0,\n",
      "                            \"varID\": 2,\n",
      "                            \"uncertainty\": 0.01,\n",
      "                            \"data_point_type\": \"Variable\",\n",
      "                            \"elementID\": 2\n",
      "                        },\n",
      "                        \"3\": {\n",
      "                            \"measurementID\": 2,\n",
      "                            \"value\": 1000.0,\n",
      "                            \"varID\": 3,\n",
      "                            \"uncertainty\": 0.02,\n",
      "                            \"data_point_type\": \"Variable\",\n",
      "                            \"elementID\": 3\n",
      "                        }\n",
      "                    }\n",
      "                }\n",
      "            }\n",
      "        }\n",
      "    }\n",
      "}\n"
     ]
    }
   ],
   "source": [
    "# pretty print dataReport object with functionalities provided by pydantic\n",
    "print(dataReport.to_string())"
   ]
  },
  {
   "cell_type": "markdown",
   "metadata": {},
   "source": [
    "Congratulations your DataReport object has been created sucessfully. Now you can write your DataReport to a ThermoML file by using the writeThermo() function. If you want to modify your ThermoML file you can read it by readFromThermoMLFile()"
   ]
  },
  {
   "cell_type": "markdown",
   "metadata": {},
   "source": [
    "## 2. Interaction with ThermoML files"
   ]
  },
  {
   "cell_type": "code",
   "execution_count": 11,
   "metadata": {},
   "outputs": [],
   "source": [
    "# write to 'testThermo.xml'\n",
    "writer = ThermoMLWriter(folder_thermoML_files=\"files/\", folder_json_files=\"files/\")\n",
    "writer.writeThermo(dataReport=dataReport, filename=\"testThermo.xml\")"
   ]
  },
  {
   "cell_type": "code",
   "execution_count": 12,
   "metadata": {},
   "outputs": [],
   "source": [
    "# read from 'testThermo.xml'\n",
    "reader = ThermoMLReader(folder_thermoML_files=\"files/\", folder_json_files=\"files/\")\n",
    "dataRepRead1 = reader.readFromThermoMLFile(filename=\"testThermo.xml\")"
   ]
  },
  {
   "cell_type": "markdown",
   "metadata": {},
   "source": [
    "If you've dowloaded a thermoML file from the NIST archive, you can read it, as long as you just integrate properties which are taken over by pyThermoML, too. PyThermoML does not contain each property of the ThermoML schema definition!"
   ]
  },
  {
   "cell_type": "code",
   "execution_count": 13,
   "metadata": {},
   "outputs": [],
   "source": [
    "dataRepNist = reader.readFromThermoMLFile(filename=\"NISTarchive_thermo.xml\", NIST=True)"
   ]
  },
  {
   "cell_type": "markdown",
   "metadata": {},
   "source": [
    "## 3. Interaction with .json files\n",
    "Writing a .json file containing the dataset is possible too. This .json file can again be read in by pyThermoML."
   ]
  },
  {
   "cell_type": "code",
   "execution_count": 14,
   "metadata": {},
   "outputs": [
    {
     "name": "stdout",
     "output_type": "stream",
     "text": [
      "<class 'str'>\n"
     ]
    }
   ],
   "source": [
    "writer.writeJSON(dataReport=dataReport, filename=\"testThermo.json\")\n",
    "dataReport = reader.readFromJSON(filename=\"testThermo.json\")"
   ]
  },
  {
   "cell_type": "markdown",
   "metadata": {},
   "source": [
    "## 4. Accesing data with pyThermoML functionalities"
   ]
  },
  {
   "cell_type": "code",
   "execution_count": 15,
   "metadata": {},
   "outputs": [
    {
     "name": "stdout",
     "output_type": "stream",
     "text": [
      "measurementID='meas1' value=10.0 propID='p1' varID=None uncertainty=None numberOfDigits=None data_point_type='Property' elementID='p1'\n"
     ]
    }
   ],
   "source": [
    "# accesing data with softdata functionalities\n",
    "x = dataReport.pureOrMixtureData[\"pom1\"].measurements[\"meas1\"].properties[\"p1\"]\n",
    "print(x)"
   ]
  },
  {
   "cell_type": "code",
   "execution_count": 16,
   "metadata": {},
   "outputs": [
    {
     "name": "stdout",
     "output_type": "stream",
     "text": [
      "At least one matching measurement could be found.\n",
      "['meas2']\n"
     ]
    }
   ],
   "source": [
    "# accesing data by variable ID and values\n",
    "x = dataReport.pureOrMixtureData[\"pom1\"].getMeasurementByValues(val1=(\"v1\", 1000.0), val2=(\"v2\",1000.0))\n",
    "print(list(x.measurements))"
   ]
  },
  {
   "cell_type": "markdown",
   "metadata": {},
   "source": [
    "## 5. Upload to DaRUS"
   ]
  },
  {
   "cell_type": "code",
   "execution_count": 17,
   "metadata": {},
   "outputs": [
    {
     "data": {
      "text/plain": [
       "'from pythermo.thermoml.tools.uploadTools import ThermoMLDaRUSHandler\\nfrom pyDaRUS.metadatablocks.citation import SubjectEnum, Contact\\n\\nhandler = ThermoMLDaRUSHandler(folder_thermoML_files=\"files/\")\\n\\nmatthias = Contact(name=\"Matthias Gueltig\", email=\"matthias.gueltig@ibtb.uni-stuttgart.de\")\\n\\np_id = handler.uploadToDaRUS(\\n    thermoML_filename=\"testThermo.xml\",\\n    dv_path = \"testThermo.xml\",\\n    dv_name = \"matthias_playground\",\\n    title = \"Title\",\\n    subject = [SubjectEnum.chemistry],\\n    description = \"Viscosity examination, extracted from the related publication and integrated into ThermoML.\",\\n    authors = [matthias]\\n)'"
      ]
     },
     "execution_count": 17,
     "metadata": {},
     "output_type": "execute_result"
    }
   ],
   "source": [
    "from pythermo.thermoml.tools.uploadTools import ThermoMLDaRUSHandler\n",
    "from pyDaRUS.metadatablocks.citation import SubjectEnum, Contact\n",
    "\n",
    "handler = ThermoMLDaRUSHandler(folder_thermoML_files=\"files/\")\n",
    "\n",
    "matthias = Contact(name=\"Matthias Gueltig\", email=\"matthias.gueltig@ibtb.uni-stuttgart.de\")\n",
    "\n",
    "p_id = handler.uploadToDaRUS(\n",
    "    thermoML_filename=\"testThermo.xml\",\n",
    "    dv_path = \"testThermo.xml\",\n",
    "    dv_name = \"matthias_playground\",\n",
    "    title = \"Title\",\n",
    "    subject = [SubjectEnum.chemistry],\n",
    "    description = \"Viscosity examination, extracted from the related publication and integrated into ThermoML.\",\n",
    "    authors = [matthias]\n",
    ")"
   ]
  },
  {
   "cell_type": "code",
   "execution_count": 18,
   "metadata": {},
   "outputs": [],
   "source": [
    "dataReport = handler.downloadFromDaRUS(p_id=p_id, filename=\"testThermo.xml\")"
   ]
  },
  {
   "cell_type": "markdown",
   "metadata": {},
   "source": [
    "Again we can acces data by functionalities of the pyThermoML"
   ]
  },
  {
   "cell_type": "code",
   "execution_count": 19,
   "metadata": {},
   "outputs": [
    {
     "data": {
      "text/plain": [
       "'Title of referred paper'"
      ]
     },
     "execution_count": 19,
     "metadata": {},
     "output_type": "execute_result"
    }
   ],
   "source": [
    "dataReport.title"
   ]
  }
 ],
 "metadata": {
  "kernelspec": {
   "display_name": "thermoml",
   "language": "python",
   "name": "python3"
  },
  "language_info": {
   "codemirror_mode": {
    "name": "ipython",
    "version": 3
   },
   "file_extension": ".py",
   "mimetype": "text/x-python",
   "name": "python",
   "nbconvert_exporter": "python",
   "pygments_lexer": "ipython3",
   "version": "3.9.13"
  },
  "vscode": {
   "interpreter": {
    "hash": "280f79629104da52525ff61948c527866b80ca05a436e692e152b3ab52f60a9d"
   }
  }
 },
 "nbformat": 4,
 "nbformat_minor": 2
}

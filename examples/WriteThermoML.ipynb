{
 "cells": [
  {
   "cell_type": "code",
   "execution_count": 5,
   "metadata": {},
   "outputs": [],
   "source": [
    "import yaml\n",
    "import numpy as np\n",
    "import pandas as pd\n",
    "\n",
    "from pyThermoML.core import DataReport\n",
    "from pyThermoML.tools import list_possible_properties, list_possible_constraints, list_possible_variables"
   ]
  },
  {
   "cell_type": "markdown",
   "metadata": {},
   "source": [
    "## Create a new DataReport instance"
   ]
  },
  {
   "cell_type": "code",
   "execution_count": 6,
   "metadata": {},
   "outputs": [],
   "source": [
    "# Initialize the dataset\n",
    "datareport = DataReport()"
   ]
  },
  {
   "cell_type": "markdown",
   "metadata": {},
   "source": [
    "### 1. Add citation data"
   ]
  },
  {
   "cell_type": "code",
   "execution_count": 7,
   "metadata": {},
   "outputs": [],
   "source": [
    "# Add citation data\n",
    "datareport.citation.s_author = [\"Max Mustermann\"]\n",
    "datareport.citation.s_title = \"Example file\""
   ]
  },
  {
   "cell_type": "markdown",
   "metadata": {},
   "source": [
    "### 2. Add compounds of the system"
   ]
  },
  {
   "cell_type": "code",
   "execution_count": 8,
   "metadata": {},
   "outputs": [
    {
     "name": "stdout",
     "output_type": "stream",
     "text": [
      "\n",
      "Add component: 'choline' with SMILES: 'C[N+](C)(C)CCO'\n",
      "Success!\n",
      "\n",
      "Add component: 'chloride' with SMILES: '[Cl-]'\n",
      "Success!\n",
      "\n",
      "Add component: 'glycerol' with SMILES: 'C(C(CO)O)O'\n",
      "Success!\n",
      "\n",
      "Add component: 'water' with SMILES: 'O'\n",
      "Success!\n",
      "\n",
      "Add component: 'carbon dioxide' with SMILES: 'C(=O)=O'\n",
      "Success!\n",
      "\n",
      "Add component: 'oxygen' with SMILES: 'O=O'\n",
      "Success!\n",
      "\n",
      "Add component: 'methane' with SMILES: 'C'\n",
      "Success!\n",
      "\n",
      "Add component: 'nitrogen' with SMILES: 'N#N'\n",
      "Success!\n"
     ]
    }
   ],
   "source": [
    "# Add compounds based on their smiles to data report\n",
    "compounds = {\n",
    "  \"choline\": \"C[N+](C)(C)CCO\",\n",
    "  \"chloride\": \"[Cl-]\",\n",
    "  \"glycerol\": \"C(C(CO)O)O\",\n",
    "  \"water\": \"O\",\n",
    "  \"carbon dioxide\": \"C(=O)=O\",\n",
    "  \"oxygen\": \"O=O\",\n",
    "  \"methane\": \"C\",\n",
    "  \"nitrogen\": \"N#N\"\n",
    "}\n",
    "\n",
    "datareport.add_compounds_via_smiles( compounds )"
   ]
  },
  {
   "cell_type": "markdown",
   "metadata": {},
   "source": [
    "### 3. Add properties\n",
    "\n",
    "In order to add a property, certain information must be parsed. These can be set manually, or saved in a yaml file"
   ]
  },
  {
   "cell_type": "markdown",
   "metadata": {},
   "source": [
    "#### 3.1 List all implemented properties, constraints, and variables\n",
    "\n",
    "The property name need to match with any of the property names listed below. It is okay if it's only a substring, e.g.: \n",
    "\n",
    "```\n",
    "'Excess molar enthalpy (molar enthalpy of mixing), kJ/mol' can be matched by only specifing 'Excess molar enthalpy'\n",
    "````\n",
    "\n",
    "The variables and constraints need to match exactly the names listed below.\n",
    "\n",
    "> **Note:** Capilization and spaces are important."
   ]
  },
  {
   "cell_type": "code",
   "execution_count": 9,
   "metadata": {},
   "outputs": [
    {
     "name": "stdout",
     "output_type": "stream",
     "text": [
      "Implemented properties for each group:\n",
      "\n",
      "Group: activity_fugacity_osmotic_prop\n",
      "Activity; Activity coefficient; Osmotic pressure, kPa; Osmotic coefficient\n",
      "\n",
      "Group: composition_at_phase_equilibrium\n",
      "Henry's Law constant (mole fraction scale), kPa; Henry's Law constant (molality scale), kPakg/mol; Henry's Law constant (amount concentration scale), kPadm3/mol; Amount per mass of solution, mol/kg; Molality, mol/kg; Amount concentration (molarity), mol/dm3\n",
      "\n",
      "Group: excess_partial_apparent_energy_prop\n",
      "Excess molar enthalpy (molar enthalpy of mixing), kJ/mol\n",
      "\n",
      "Group: heat_capacity_and_derived_prop\n",
      "Molar enthalpy, kJ/mol\n",
      "\n",
      "Group: transport_prop\n",
      "Self diffusion coefficient, m2/s; Viscosity, Pas; Kinematic Viscosity m2/s\n",
      "\n",
      "Group: volumetric_prop\n",
      "Mass density, kg/m3; Specific volume, m3/kg; Amount density. mol/m3; Molar volume, m3/mol; Compressibility factor; Adiabatic compressibility, 1/kPa; Isothermal compressibility, 1/kPa; Isobaric coefficient of expansion, 1/K; Excess molar volume, m3/mol; Partial molar volume, m3/mol\n",
      "\n"
     ]
    }
   ],
   "source": [
    "list_possible_properties(  )"
   ]
  },
  {
   "cell_type": "code",
   "execution_count": 10,
   "metadata": {},
   "outputs": [
    {
     "name": "stdout",
     "output_type": "stream",
     "text": [
      "Implemented constraints are:\n",
      "  mass_fraction; mole_fraction; pressure; temperature\n"
     ]
    }
   ],
   "source": [
    "list_possible_constraints( )"
   ]
  },
  {
   "cell_type": "code",
   "execution_count": 11,
   "metadata": {},
   "outputs": [
    {
     "name": "stdout",
     "output_type": "stream",
     "text": [
      "Implemented variables are:\n",
      "  pressure; temperature\n"
     ]
    }
   ],
   "source": [
    "list_possible_variables( )"
   ]
  },
  {
   "cell_type": "markdown",
   "metadata": {},
   "source": [
    "#### 3.2 Define property information\n",
    "\n",
    "##### Property\n",
    "\n",
    "Each property needs certain information, this should be parsed via a property_dictionary.\n",
    "\n",
    "<u>Example:</u> \n",
    "\n",
    "```python\n",
    "property_dict = {\n",
    "\"prediction_type\": \"Experimental\",\n",
    "\"method_name\": \"\",\n",
    "\"method_ref_doi\": \"https://doi.org/10.1016/j.jct.2016.10.002\",\n",
    "\"method_description\": \"\" ,\n",
    "\"confidence_interval\": 0,\n",
    "\"uncertanty_method\": \"\",\n",
    "\"name\": \"Excess molar enthalpy\",\n",
    "\"component_identifier\": \"\"\n",
    "}\n",
    "```\n",
    "\n",
    "In case the data should be read in via **json** the dictionary should contain the following keys:\n",
    "\n",
    "\"paths\": For each variable specified, a list of paths with the same length as the variable should be provided. In this example there is only the temperature as variable, and 5 temperatures where studied (313.15K, 323.15K, 333.15K, 343.15K, 353.15K).\n",
    "\n",
    "\"keys\": A list of keys in the provided json file. At the end of the key list, it is expected that there is a dictionary provided that contain \"mean\" and \"std\" as keys. The json file will be read in using the 'get_num_values_from_json' function which multiplies the standard deviation by 2, to obtain the 95% confidence intervall.\n",
    "\n",
    "<u>Example:</u> \n",
    "\n",
    "```python\n",
    "property_dict[\"paths\"] =  [ ['/home/st/st_st/st_ac137577/workspace/software/ThermoML-Specifications/examples/files/results_313.json',\n",
    "                             '/home/st/st_st/st_ac137577/workspace/software/ThermoML-Specifications/examples/files/results_323.json',\n",
    "                             '/home/st/st_st/st_ac137577/workspace/software/ThermoML-Specifications/examples/files/results_333.json',\n",
    "                             '/home/st/st_st/st_ac137577/workspace/software/ThermoML-Specifications/examples/files/results_343.json',\n",
    "                             '/home/st/st_st/st_ac137577/workspace/software/ThermoML-Specifications/examples/files/results_353.json'] \n",
    "                         ]\n",
    "\n",
    "property_dict[\"keys\"] = ['03_npt_production', 'data', 'average', 'Enthalpy']\n",
    "```\n",
    "\n",
    "For the case, the data is provided within the **notebook** the dictionary should contain the following keys:\n",
    "\n",
    "\"property_results\": For each variable specified, a list of dictionaries with the same length as the variable should be provided. In this example there is only the temperature as variable, and 2 temperatures where studied (313.15K, 323.15K). \n",
    "\n",
    "```python\n",
    "property_dict['property_results'] = [ [ {'value': -113162.513, 'uncertainty': 16.404},\n",
    "                                        {'value': -110550.96845, 'uncertainty': 7.78308},\n",
    "                                      ]\n",
    "                                    ]\n",
    "\n",
    "```\n",
    "\n",
    "\n",
    "##### Constraints\n",
    "\n",
    "Constraints are defined via a dictionary. Depending on the constraint, the value of the key is either an another dictionary (mass/mole fraction) or a numerical value (temperature/pressure)\n",
    "\n",
    "```python\n",
    "constraints = {\n",
    "    \"mole_fraction\": {\n",
    "        \"water\": 0.5,\n",
    "        \"glycerol\": 0.334,\n",
    "        \"choline\": 0.083,\n",
    "        \"chloride\": 0.083,\n",
    "    },\n",
    "    \"pressure\": 100 #kPa\n",
    "    }\n",
    "```\n",
    "\n",
    "\n",
    "\n",
    "##### Variables\n",
    "\n",
    "Variables are defined via a dictionary. For each variable, the value of the key is an list with the numerical values\n",
    "\n",
    "```python\n",
    "variables = { \"temperature\": [313.15,323.15] #K\n",
    "            }\n",
    "```"
   ]
  },
  {
   "cell_type": "code",
   "execution_count": 12,
   "metadata": {},
   "outputs": [
    {
     "data": {
      "text/plain": [
       "{'prediction_type': 'Molecular dynamics',\n",
       " 'method_name': '',\n",
       " 'method_ref_doi': '',\n",
       " 'method_description': 'Simulations in NPT ensemble. TIP4P/2005 model (https://doi.org/10.1063/1.2121687).',\n",
       " 'confidence_interval': 95,\n",
       " 'uncertanty_method': 'Standard deviation over 3 copies of the same system with different initial velocities.'}"
      ]
     },
     "execution_count": 12,
     "metadata": {},
     "output_type": "execute_result"
    }
   ],
   "source": [
    "# Read in property information file\n",
    "with open(\"input/property_info.yaml\") as f:\n",
    "    data_property = yaml.safe_load(f)\n",
    "\n",
    "# Example for the property 'Mass density'\n",
    "data_property[\"Mass density\"]"
   ]
  },
  {
   "cell_type": "markdown",
   "metadata": {},
   "source": [
    "#### 3.3 Read in via json and manifest file"
   ]
  },
  {
   "cell_type": "code",
   "execution_count": 13,
   "metadata": {},
   "outputs": [
    {
     "name": "stdout",
     "output_type": "stream",
     "text": [
      "Extract property values via json file!\n",
      "Matched 'Mass density' with ThermoML property 'Mass density, kg/m3' in following category: 'volumetric_prop'\n",
      "\n",
      "Extract property values via json file!\n",
      "Matched 'Molar enthalpy' with ThermoML property 'Molar enthalpy, kJ/mol' in following category: 'heat_capacity_and_derived_prop'\n",
      "\n"
     ]
    }
   ],
   "source": [
    "# Add pure or mixture data\n",
    "with open(\"input/manifest.yaml\") as f:\n",
    "    data_manifest = yaml.safe_load(f)\n",
    "\n",
    "\n",
    "for pomd in data_manifest[\"pomd\"]:\n",
    "    for prop in pomd[\"properties\"]:\n",
    "        property_dict = data_property[prop[\"name\"]]\n",
    "        property_dict.update( {\"paths\": pomd[\"paths\"], **prop} )\n",
    "        \n",
    "        datareport.create_pure_or_mixture_data( components = pomd[\"components\"], \n",
    "                                                phase = pomd[\"phase\"], constraints = pomd[\"constraint\"],\n",
    "                                                variables = pomd[\"variable\"], property_dict = property_dict\n",
    "                                                )\n"
   ]
  },
  {
   "cell_type": "code",
   "execution_count": 14,
   "metadata": {},
   "outputs": [
    {
     "name": "stdout",
     "output_type": "stream",
     "text": [
      "All data saved in the datareport:\n",
      "\n",
      "  \"Mass density, kg/m3\" of system                     variable               constraint                          \n",
      "                             mean 95_confidence Temperature, K \"Mole fraction\" of water \"Pressure, kPa\" of system\n",
      "0                       989.26692      0.132553         313.15                      1.0                     100.0\n",
      "1                       984.23857      0.029222         323.15                      1.0                     100.0\n",
      "2                       978.73098      0.470517         333.15                      1.0                     100.0\n",
      "3                       972.22267      0.368699         343.15                      1.0                     100.0\n",
      "4                       965.13213      0.251989         353.15                      1.0                     100.0 \n",
      "\n",
      "  \"Molar enthalpy, kJ/mol\" of system                     variable               constraint                          \n",
      "                                mean 95_confidence Temperature, K \"Mole fraction\" of water \"Pressure, kPa\" of system\n",
      "0                      -113162.51340     16.404579         313.15                      1.0                     100.0\n",
      "1                      -110550.96845      7.783080         323.15                      1.0                     100.0\n",
      "2                      -107971.66792     30.769541         333.15                      1.0                     100.0\n",
      "3                      -105389.20995     35.461666         343.15                      1.0                     100.0\n",
      "4                      -102849.66809     34.538222         353.15                      1.0                     100.0 \n",
      "\n"
     ]
    }
   ],
   "source": [
    "# Extract saved data\n",
    "all_data = datareport.get_all_data(  )"
   ]
  },
  {
   "cell_type": "markdown",
   "metadata": {},
   "source": [
    "#### 3.4 Direct parsing from notebook"
   ]
  },
  {
   "cell_type": "code",
   "execution_count": 15,
   "metadata": {},
   "outputs": [
    {
     "name": "stdout",
     "output_type": "stream",
     "text": [
      "      mean  composition  temperature\n",
      "0     0.00       0.0000       298.15\n",
      "1     0.00       0.0000       308.15\n",
      "2  -557.64       0.2439       308.15\n",
      "3  -477.69       0.2492       298.15\n",
      "4  -818.22       0.3982       308.15\n",
      "5  -727.53       0.3998       298.15\n",
      "6  -867.63       0.4928       308.15\n",
      "7  -896.93       0.5137       298.15\n",
      "8  -939.17       0.6605       308.15\n",
      "9  -935.48       0.6813       298.15\n",
      "10 -846.59       0.7614       298.15\n",
      "11 -778.52       0.7948       308.15\n",
      "12 -747.38       0.8093       298.15\n",
      "13 -511.68       0.8524       308.15\n",
      "14 -483.09       0.8642       298.15\n",
      "15 -301.59       0.9203       308.15\n",
      "16 -194.33       0.9497       298.15\n",
      "17 -157.52       0.9582       308.15\n",
      "18 -146.46       0.9618       298.15\n",
      "19    0.00       1.0000       308.15\n",
      "20    0.00       1.0000       298.15 \n",
      "\n",
      "Matched 'Excess molar enthalpy' with ThermoML property 'Excess molar enthalpy (molar enthalpy of mixing), kJ/mol' in following category: 'excess_partial_apparent_energy_prop'\n",
      "\n",
      "Matched 'Excess molar enthalpy' with ThermoML property 'Excess molar enthalpy (molar enthalpy of mixing), kJ/mol' in following category: 'excess_partial_apparent_energy_prop'\n",
      "\n",
      "Matched 'Excess molar enthalpy' with ThermoML property 'Excess molar enthalpy (molar enthalpy of mixing), kJ/mol' in following category: 'excess_partial_apparent_energy_prop'\n",
      "\n",
      "Matched 'Excess molar enthalpy' with ThermoML property 'Excess molar enthalpy (molar enthalpy of mixing), kJ/mol' in following category: 'excess_partial_apparent_energy_prop'\n",
      "\n",
      "Matched 'Excess molar enthalpy' with ThermoML property 'Excess molar enthalpy (molar enthalpy of mixing), kJ/mol' in following category: 'excess_partial_apparent_energy_prop'\n",
      "\n",
      "Matched 'Excess molar enthalpy' with ThermoML property 'Excess molar enthalpy (molar enthalpy of mixing), kJ/mol' in following category: 'excess_partial_apparent_energy_prop'\n",
      "\n",
      "Matched 'Excess molar enthalpy' with ThermoML property 'Excess molar enthalpy (molar enthalpy of mixing), kJ/mol' in following category: 'excess_partial_apparent_energy_prop'\n",
      "\n",
      "Matched 'Excess molar enthalpy' with ThermoML property 'Excess molar enthalpy (molar enthalpy of mixing), kJ/mol' in following category: 'excess_partial_apparent_energy_prop'\n",
      "\n",
      "Matched 'Excess molar enthalpy' with ThermoML property 'Excess molar enthalpy (molar enthalpy of mixing), kJ/mol' in following category: 'excess_partial_apparent_energy_prop'\n",
      "\n",
      "Matched 'Excess molar enthalpy' with ThermoML property 'Excess molar enthalpy (molar enthalpy of mixing), kJ/mol' in following category: 'excess_partial_apparent_energy_prop'\n",
      "\n",
      "Matched 'Excess molar enthalpy' with ThermoML property 'Excess molar enthalpy (molar enthalpy of mixing), kJ/mol' in following category: 'excess_partial_apparent_energy_prop'\n",
      "\n",
      "Matched 'Excess molar enthalpy' with ThermoML property 'Excess molar enthalpy (molar enthalpy of mixing), kJ/mol' in following category: 'excess_partial_apparent_energy_prop'\n",
      "\n",
      "Matched 'Excess molar enthalpy' with ThermoML property 'Excess molar enthalpy (molar enthalpy of mixing), kJ/mol' in following category: 'excess_partial_apparent_energy_prop'\n",
      "\n",
      "Matched 'Excess molar enthalpy' with ThermoML property 'Excess molar enthalpy (molar enthalpy of mixing), kJ/mol' in following category: 'excess_partial_apparent_energy_prop'\n",
      "\n",
      "Matched 'Excess molar enthalpy' with ThermoML property 'Excess molar enthalpy (molar enthalpy of mixing), kJ/mol' in following category: 'excess_partial_apparent_energy_prop'\n",
      "\n",
      "Matched 'Excess molar enthalpy' with ThermoML property 'Excess molar enthalpy (molar enthalpy of mixing), kJ/mol' in following category: 'excess_partial_apparent_energy_prop'\n",
      "\n",
      "Matched 'Excess molar enthalpy' with ThermoML property 'Excess molar enthalpy (molar enthalpy of mixing), kJ/mol' in following category: 'excess_partial_apparent_energy_prop'\n",
      "\n",
      "Matched 'Excess molar enthalpy' with ThermoML property 'Excess molar enthalpy (molar enthalpy of mixing), kJ/mol' in following category: 'excess_partial_apparent_energy_prop'\n",
      "\n",
      "Matched 'Excess molar enthalpy' with ThermoML property 'Excess molar enthalpy (molar enthalpy of mixing), kJ/mol' in following category: 'excess_partial_apparent_energy_prop'\n",
      "\n"
     ]
    }
   ],
   "source": [
    "# Example for experimental values\n",
    "exp_df = pd.read_csv('files/experimental_excess_enthalpy.csv')\n",
    "print(exp_df,\"\\n\")\n",
    "\n",
    "# Define property information\n",
    "\n",
    "property_dict = {\n",
    "\"prediction_type\": \"Experimental\",\n",
    "\"method_name\": \"\",\n",
    "\"method_ref_doi\": \"https://doi.org/10.1016/j.jct.2016.10.002\",\n",
    "\"method_description\": \"\" ,\n",
    "\"confidence_interval\": 0,\n",
    "\"uncertanty_method\": \"\",\n",
    "\"name\": \"Excess molar enthalpy\",\n",
    "\"component_identifier\": \"\"\n",
    "}\n",
    "\n",
    "# Write for every composition the property, with variable temperature and constant pressure\n",
    "for _,df in exp_df.groupby(\"composition\"):\n",
    "    property_dict[\"property_results\"] = [ [ {\"value\": val, \"uncertainty\": 0 } for val in df[\"mean\"] ] ]\n",
    "\n",
    "    components = [ \"water\", \"choline\", \"chloride\", \"glycerol\" ]\n",
    "\n",
    "    constraints = {\n",
    "    \"mole_fraction\": {\n",
    "        \"water\": df[\"composition\"].iloc[0],\n",
    "        \"glycerol\": np.round((1- df[\"composition\"].iloc[0])*2/3,3),\n",
    "        \"choline\": np.round((1- df[\"composition\"].iloc[0])*1/6,3)\n",
    "    },\n",
    "    \"pressure\": 100 #kPa\n",
    "    }\n",
    "\n",
    "    constraints[\"mole_fraction\"][\"chloride\"] = 1 - sum( constraints[\"mole_fraction\"].values() )\n",
    "\n",
    "    datareport.create_pure_or_mixture_data( components = components, \n",
    "                                            phase = \"Liquid\", constraints = constraints,\n",
    "                                            variables = {\"temperature\": df[\"temperature\"]},\n",
    "                                            property_dict = property_dict \n",
    "                                         ) \n"
   ]
  },
  {
   "cell_type": "code",
   "execution_count": 16,
   "metadata": {},
   "outputs": [
    {
     "name": "stdout",
     "output_type": "stream",
     "text": [
      "All data saved in the datareport:\n",
      "\n",
      "  \"Mass density, kg/m3\" of system                     variable               constraint                          \n",
      "                             mean 95_confidence Temperature, K \"Mole fraction\" of water \"Pressure, kPa\" of system\n",
      "0                       989.26692      0.132553         313.15                      1.0                     100.0\n",
      "1                       984.23857      0.029222         323.15                      1.0                     100.0\n",
      "2                       978.73098      0.470517         333.15                      1.0                     100.0\n",
      "3                       972.22267      0.368699         343.15                      1.0                     100.0\n",
      "4                       965.13213      0.251989         353.15                      1.0                     100.0 \n",
      "\n",
      "  \"Molar enthalpy, kJ/mol\" of system                     variable               constraint                          \n",
      "                                mean 95_confidence Temperature, K \"Mole fraction\" of water \"Pressure, kPa\" of system\n",
      "0                      -113162.51340     16.404579         313.15                      1.0                     100.0\n",
      "1                      -110550.96845      7.783080         323.15                      1.0                     100.0\n",
      "2                      -107971.66792     30.769541         333.15                      1.0                     100.0\n",
      "3                      -105389.20995     35.461666         343.15                      1.0                     100.0\n",
      "4                      -102849.66809     34.538222         353.15                      1.0                     100.0 \n",
      "\n",
      "  \"Excess molar enthalpy (molar enthalpy of mixing), kJ/mol\" of system                     variable               constraint                                                                                                             \n",
      "                                                                  mean 95_confidence Temperature, K \"Mole fraction\" of water \"Mole fraction\" of glycerol \"Mole fraction\" of choline \"Mole fraction\" of chloride \"Pressure, kPa\" of system\n",
      "0                                                                  0.0           0.0         298.15                      0.0                       0.667                      0.167                       0.166                     100.0\n",
      "1                                                                  0.0           0.0         308.15                      0.0                       0.667                      0.167                       0.166                     100.0 \n",
      "\n",
      "  \"Excess molar enthalpy (molar enthalpy of mixing), kJ/mol\" of system                     variable               constraint                                                                                                             \n",
      "                                                                  mean 95_confidence Temperature, K \"Mole fraction\" of water \"Mole fraction\" of glycerol \"Mole fraction\" of choline \"Mole fraction\" of chloride \"Pressure, kPa\" of system\n",
      "0                                                              -557.64           0.0         308.15                   0.2439                       0.504                      0.126                      0.1261                     100.0 \n",
      "\n",
      "  \"Excess molar enthalpy (molar enthalpy of mixing), kJ/mol\" of system                     variable               constraint                                                                                                             \n",
      "                                                                  mean 95_confidence Temperature, K \"Mole fraction\" of water \"Mole fraction\" of glycerol \"Mole fraction\" of choline \"Mole fraction\" of chloride \"Pressure, kPa\" of system\n",
      "0                                                              -477.69           0.0         298.15                   0.2492                       0.501                      0.125                      0.1248                     100.0 \n",
      "\n",
      "  \"Excess molar enthalpy (molar enthalpy of mixing), kJ/mol\" of system                     variable               constraint                                                                                                             \n",
      "                                                                  mean 95_confidence Temperature, K \"Mole fraction\" of water \"Mole fraction\" of glycerol \"Mole fraction\" of choline \"Mole fraction\" of chloride \"Pressure, kPa\" of system\n",
      "0                                                              -818.22           0.0         308.15                   0.3982                       0.401                        0.1                      0.1008                     100.0 \n",
      "\n",
      "  \"Excess molar enthalpy (molar enthalpy of mixing), kJ/mol\" of system                     variable               constraint                                                                                                             \n",
      "                                                                  mean 95_confidence Temperature, K \"Mole fraction\" of water \"Mole fraction\" of glycerol \"Mole fraction\" of choline \"Mole fraction\" of chloride \"Pressure, kPa\" of system\n",
      "0                                                              -727.53           0.0         298.15                   0.3998                         0.4                        0.1                      0.1002                     100.0 \n",
      "\n",
      "  \"Excess molar enthalpy (molar enthalpy of mixing), kJ/mol\" of system                     variable               constraint                                                                                                             \n",
      "                                                                  mean 95_confidence Temperature, K \"Mole fraction\" of water \"Mole fraction\" of glycerol \"Mole fraction\" of choline \"Mole fraction\" of chloride \"Pressure, kPa\" of system\n",
      "0                                                              -867.63           0.0         308.15                   0.4928                       0.338                      0.085                      0.0842                     100.0 \n",
      "\n",
      "  \"Excess molar enthalpy (molar enthalpy of mixing), kJ/mol\" of system                     variable               constraint                                                                                                             \n",
      "                                                                  mean 95_confidence Temperature, K \"Mole fraction\" of water \"Mole fraction\" of glycerol \"Mole fraction\" of choline \"Mole fraction\" of chloride \"Pressure, kPa\" of system\n",
      "0                                                              -896.93           0.0         298.15                   0.5137                       0.324                      0.081                      0.0813                     100.0 \n",
      "\n",
      "  \"Excess molar enthalpy (molar enthalpy of mixing), kJ/mol\" of system                     variable               constraint                                                                                                             \n",
      "                                                                  mean 95_confidence Temperature, K \"Mole fraction\" of water \"Mole fraction\" of glycerol \"Mole fraction\" of choline \"Mole fraction\" of chloride \"Pressure, kPa\" of system\n",
      "0                                                              -939.17           0.0         308.15                   0.6605                       0.226                      0.057                      0.0565                     100.0 \n",
      "\n",
      "  \"Excess molar enthalpy (molar enthalpy of mixing), kJ/mol\" of system                     variable               constraint                                                                                                             \n",
      "                                                                  mean 95_confidence Temperature, K \"Mole fraction\" of water \"Mole fraction\" of glycerol \"Mole fraction\" of choline \"Mole fraction\" of chloride \"Pressure, kPa\" of system\n",
      "0                                                              -935.48           0.0         298.15                   0.6813                       0.212                      0.053                      0.0537                     100.0 \n",
      "\n",
      "  \"Excess molar enthalpy (molar enthalpy of mixing), kJ/mol\" of system                     variable               constraint                                                                                                             \n",
      "                                                                  mean 95_confidence Temperature, K \"Mole fraction\" of water \"Mole fraction\" of glycerol \"Mole fraction\" of choline \"Mole fraction\" of chloride \"Pressure, kPa\" of system\n",
      "0                                                              -846.59           0.0         298.15                   0.7614                       0.159                       0.04                      0.0396                     100.0 \n",
      "\n",
      "  \"Excess molar enthalpy (molar enthalpy of mixing), kJ/mol\" of system                     variable               constraint                                                                                                             \n",
      "                                                                  mean 95_confidence Temperature, K \"Mole fraction\" of water \"Mole fraction\" of glycerol \"Mole fraction\" of choline \"Mole fraction\" of chloride \"Pressure, kPa\" of system\n",
      "0                                                              -778.52           0.0         308.15                   0.7948                       0.137                      0.034                      0.0342                     100.0 \n",
      "\n",
      "  \"Excess molar enthalpy (molar enthalpy of mixing), kJ/mol\" of system                     variable               constraint                                                                                                             \n",
      "                                                                  mean 95_confidence Temperature, K \"Mole fraction\" of water \"Mole fraction\" of glycerol \"Mole fraction\" of choline \"Mole fraction\" of chloride \"Pressure, kPa\" of system\n",
      "0                                                              -747.38           0.0         298.15                   0.8093                       0.127                      0.032                      0.0317                     100.0 \n",
      "\n",
      "  \"Excess molar enthalpy (molar enthalpy of mixing), kJ/mol\" of system                     variable               constraint                                                                                                             \n",
      "                                                                  mean 95_confidence Temperature, K \"Mole fraction\" of water \"Mole fraction\" of glycerol \"Mole fraction\" of choline \"Mole fraction\" of chloride \"Pressure, kPa\" of system\n",
      "0                                                              -511.68           0.0         308.15                   0.8524                       0.098                      0.025                      0.0246                     100.0 \n",
      "\n",
      "  \"Excess molar enthalpy (molar enthalpy of mixing), kJ/mol\" of system                     variable               constraint                                                                                                             \n",
      "                                                                  mean 95_confidence Temperature, K \"Mole fraction\" of water \"Mole fraction\" of glycerol \"Mole fraction\" of choline \"Mole fraction\" of chloride \"Pressure, kPa\" of system\n",
      "0                                                              -483.09           0.0         298.15                   0.8642                       0.091                      0.023                      0.0218                     100.0 \n",
      "\n",
      "  \"Excess molar enthalpy (molar enthalpy of mixing), kJ/mol\" of system                     variable               constraint                                                                                                             \n",
      "                                                                  mean 95_confidence Temperature, K \"Mole fraction\" of water \"Mole fraction\" of glycerol \"Mole fraction\" of choline \"Mole fraction\" of chloride \"Pressure, kPa\" of system\n",
      "0                                                              -301.59           0.0         308.15                   0.9203                       0.053                      0.013                      0.0137                     100.0 \n",
      "\n",
      "  \"Excess molar enthalpy (molar enthalpy of mixing), kJ/mol\" of system                     variable               constraint                                                                                                             \n",
      "                                                                  mean 95_confidence Temperature, K \"Mole fraction\" of water \"Mole fraction\" of glycerol \"Mole fraction\" of choline \"Mole fraction\" of chloride \"Pressure, kPa\" of system\n",
      "0                                                              -194.33           0.0         298.15                   0.9497                       0.034                      0.008                      0.0083                     100.0 \n",
      "\n",
      "  \"Excess molar enthalpy (molar enthalpy of mixing), kJ/mol\" of system                     variable               constraint                                                                                                             \n",
      "                                                                  mean 95_confidence Temperature, K \"Mole fraction\" of water \"Mole fraction\" of glycerol \"Mole fraction\" of choline \"Mole fraction\" of chloride \"Pressure, kPa\" of system\n",
      "0                                                              -157.52           0.0         308.15                   0.9582                       0.028                      0.007                      0.0068                     100.0 \n",
      "\n",
      "  \"Excess molar enthalpy (molar enthalpy of mixing), kJ/mol\" of system                     variable               constraint                                                                                                             \n",
      "                                                                  mean 95_confidence Temperature, K \"Mole fraction\" of water \"Mole fraction\" of glycerol \"Mole fraction\" of choline \"Mole fraction\" of chloride \"Pressure, kPa\" of system\n",
      "0                                                              -146.46           0.0         298.15                   0.9618                       0.025                      0.006                      0.0072                     100.0 \n",
      "\n",
      "  \"Excess molar enthalpy (molar enthalpy of mixing), kJ/mol\" of system                     variable               constraint                                                                                                             \n",
      "                                                                  mean 95_confidence Temperature, K \"Mole fraction\" of water \"Mole fraction\" of glycerol \"Mole fraction\" of choline \"Mole fraction\" of chloride \"Pressure, kPa\" of system\n",
      "0                                                                  0.0           0.0         308.15                      1.0                         0.0                        0.0                         0.0                     100.0\n",
      "1                                                                  0.0           0.0         298.15                      1.0                         0.0                        0.0                         0.0                     100.0 \n",
      "\n"
     ]
    }
   ],
   "source": [
    "# Extract saved data\n",
    "all_data = datareport.get_all_data(  )"
   ]
  },
  {
   "cell_type": "markdown",
   "metadata": {},
   "source": [
    "#### 4. Save it as xml file"
   ]
  },
  {
   "cell_type": "code",
   "execution_count": 17,
   "metadata": {},
   "outputs": [],
   "source": [
    "# Write as xml file\n",
    "with open(\"files/test.xml\",\"w\") as f:\n",
    "    f.write(datareport.xml())"
   ]
  }
 ],
 "metadata": {
  "kernelspec": {
   "display_name": "sdrdmv2",
   "language": "python",
   "name": "python3"
  },
  "language_info": {
   "codemirror_mode": {
    "name": "ipython",
    "version": 3
   },
   "file_extension": ".py",
   "mimetype": "text/x-python",
   "name": "python",
   "nbconvert_exporter": "python",
   "pygments_lexer": "ipython3",
   "version": "3.12.3"
  }
 },
 "nbformat": 4,
 "nbformat_minor": 2
}

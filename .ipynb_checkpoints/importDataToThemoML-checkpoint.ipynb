{
 "cells": [
  {
   "cell_type": "markdown",
   "metadata": {},
   "source": [
    "# *PyThermoML* - Import Template\n",
    "This template explains how *PyThermoML* can be used, to write data into ThermoML.\n",
    "\n",
    "**WARNING API is still changig. Only use under reservation.**\n",
    "**Uncertaintys and errors of measurement arent included!**"
   ]
  },
  {
   "cell_type": "code",
   "execution_count": 1,
   "metadata": {},
   "outputs": [],
   "source": [
    "from core import PureOrMixtureData, Measurement, DataReport, Compound"
   ]
  },
  {
   "cell_type": "markdown",
   "metadata": {},
   "source": [
    "## DataReport\n",
    "First create a dataReport instance, in which you can declare the title, the DOI and the authors of the referred paper.\n"
   ]
  },
  {
   "cell_type": "code",
   "execution_count": 2,
   "metadata": {},
   "outputs": [],
   "source": [
    "dataReport = DataReport(\"Title of referred paper\", \"DOI of referred paper\", \"author 1\", \"author 2\")"
   ]
  },
  {
   "cell_type": "markdown",
   "metadata": {},
   "source": [
    "## Compounds\n",
    "After that you can declare the compounds which you have used in your chemical system."
   ]
  },
  {
   "cell_type": "code",
   "execution_count": 3,
   "metadata": {},
   "outputs": [],
   "source": [
    "comp1 = Compound(\"id1\", \"inhi1\", \"inchikey1\", \"smiles1\", \"water\")\n",
    "comp2 = Compound(\"id2\", \"inchi2\", \"inchikey2\", \"smiles2\", \"ethanol\")"
   ]
  },
  {
   "cell_type": "markdown",
   "metadata": {},
   "source": [
    "The attributes of Compounds are an internal ID, the inchi code, inchi key, smiles code and a common Name. In the next step, add the compounds to dataReport. With the ID you can reference to the compound later."
   ]
  },
  {
   "cell_type": "code",
   "execution_count": 4,
   "metadata": {},
   "outputs": [],
   "source": [
    "comp1_ID = dataReport.addCompound(comp1)\n",
    "comp2_ID = dataReport.addCompound(comp2)"
   ]
  },
  {
   "cell_type": "markdown",
   "metadata": {},
   "source": [
    "## Pure or mixture data\n",
    "The main part begins here: Declare in a PureOrMixtureData object which compounds you have used, by calling them by their ID. Give your experiment also an ID and a name."
   ]
  },
  {
   "cell_type": "code",
   "execution_count": 5,
   "metadata": {},
   "outputs": [],
   "source": [
    "experiment = PureOrMixtureData(\"ID\", \"experiement1\", comp1_ID, comp2_ID)"
   ]
  },
  {
   "cell_type": "markdown",
   "metadata": {},
   "source": [
    "## Declaration of Property and Variable\n",
    "Declare your examined property (e.g. the viscosity) and variables (e. g. the temperature, mole fraction) of the experiment/simulation.\n",
    "\n",
    "Concerning the property, enter again an ID and indicate whether you've done a simulation or an experiment.\n",
    "The variable has also an ID. Be aware, that there are compound specific variables/properties (e. g. mole fraction). The function returns an ID to refer to respective property/variable."
   ]
  },
  {
   "cell_type": "code",
   "execution_count": 6,
   "metadata": {},
   "outputs": [],
   "source": [
    "from props.transportproperties import viscosity\n",
    "from vars.componentcomposition import moleFraction\n",
    "from vars.temperature import temperature\n",
    "from props.transportproperties import viscosity\n",
    "\n",
    "\n",
    "#property definitions\n",
    "visc = viscosity('visc1', \"simulation\")\n",
    "# Variable definitions\n",
    "temp = temperature('temp1')\n",
    "frac1 = moleFraction('moleFrac1', comp1_ID)\n",
    "frac2 = moleFraction('moleFrac2', comp2_ID)"
   ]
  },
  {
   "cell_type": "markdown",
   "metadata": {},
   "source": [
    "This API provides the following properties:\n",
    "* volumetric properties:\n",
    "    * mass density (kg/m3)\n",
    "* heat capacity properties:\n",
    "    * molar heat capacity at constant pressure (J/K/mol)\n",
    "    * molar heat capacity at constant volume (J/K/mol)\n",
    "* transport properties:\n",
    "    * viscosity (Pa*s)\n",
    "    * kinematic viscosity (m2/s)\n",
    "    * microviscosity (Pa*s)\n",
    "    * self dffusion coefficient (m2/s)\n",
    "* bioproperties:\n",
    "    * peakTemperature (K)\n",
    "* other:\n",
    "    * surface tension (N/m) \n",
    "    * speed of sound (m/s)\n",
    "\n",
    "This API provides the following variables:\n",
    "* component composition:\n",
    "    * mole fraction ()\n",
    "* temperatures:\n",
    "    * temperature(K)\n",
    "    * upper temperature(K)\n",
    "    * lower temperature(K)\n",
    "* pressure:\n",
    "    * pressure (kPa)\n",
    "    \n",
    "\n",
    "The units are fixed and cannot be changed!\n",
    "For usage import the respective packages."
   ]
  },
  {
   "cell_type": "markdown",
   "metadata": {},
   "source": [
    "Add initialized properties/variables to experiement. The experiment is now ready to get filled with data.\n"
   ]
  },
  {
   "cell_type": "code",
   "execution_count": 7,
   "metadata": {},
   "outputs": [],
   "source": [
    "viscID = experiment.addProperty(visc)\n",
    "tempID = experiment.addVariable(temp)\n",
    "frac1ID = experiment.addVariable(frac1)\n",
    "frac2ID = experiment.addVariable(frac2)"
   ]
  },
  {
   "cell_type": "markdown",
   "metadata": {},
   "source": [
    "## Add data to experiment\n",
    "Data can be added to experiment by creating a Measurement object. It contains again a name, a values dictionary and a reference to the expereiment. First declare the values dictionary.\n",
    "Therfore use the ID of the property/variable as key and enter the values."
   ]
  },
  {
   "cell_type": "code",
   "execution_count": 8,
   "metadata": {},
   "outputs": [],
   "source": [
    "values = dict()\n",
    "\n",
    "values[tempID] = 300\n",
    "values[frac1ID] = 0.5\n",
    "values[frac2ID] = 0.5\n",
    "\n",
    "values[viscID] = 0.001"
   ]
  },
  {
   "cell_type": "markdown",
   "metadata": {},
   "source": [
    "In this **example** (T = 300K, mole fraction of water and ethanol = 1/2) the mixture had a viscosity at 0.001 Pa*s. "
   ]
  },
  {
   "cell_type": "code",
   "execution_count": 12,
   "metadata": {},
   "outputs": [
    {
     "name": "stdout",
     "output_type": "stream",
     "text": [
      "{\n",
      "    \"_title\": \"Title of referred paper\",\n",
      "    \"_DOI\": \"DOI of referred paper\",\n",
      "    \"_authors\": {\n",
      "        \"_author0\": \"author 1\",\n",
      "        \"_author1\": \"author 2\"\n",
      "    },\n",
      "    \"compounds\": {\n",
      "        \"id1\": {\n",
      "            \"_Compound__type\": \"comp\",\n",
      "            \"_ID\": \"id1\",\n",
      "            \"_standardInchi\": \"inhi1\",\n",
      "            \"_standardInchiKey\": \"inchikey1\",\n",
      "            \"_smiles\": \"smiles1\",\n",
      "            \"_commonName\": \"water\"\n",
      "        },\n",
      "        \"id2\": {\n",
      "            \"_Compound__type\": \"comp\",\n",
      "            \"_ID\": \"id2\",\n",
      "            \"_standardInchi\": \"inchi2\",\n",
      "            \"_standardInchiKey\": \"inchikey2\",\n",
      "            \"_smiles\": \"smiles2\",\n",
      "            \"_commonName\": \"ethanol\"\n",
      "        }\n",
      "    },\n",
      "    \"pureOrMixtureData\": {\n",
      "        \"ID\": {\n",
      "            \"_ID\": \"ID\",\n",
      "            \"_name\": \"experiement1\",\n",
      "            \"comps\": [\n",
      "                \"id1\",\n",
      "                \"id2\"\n",
      "            ],\n",
      "            \"_properties\": {\n",
      "                \"visc1\": {\n",
      "                    \"_propName\": \"Viscosity\",\n",
      "                    \"_ID\": \"visc1\",\n",
      "                    \"_propGroup\": \"TransportProp\",\n",
      "                    \"_unit\": \"Pa*s\",\n",
      "                    \"_method\": \"simulation\",\n",
      "                    \"_PropertyBase__type\": \"prop\"\n",
      "                }\n",
      "            },\n",
      "            \"_variables\": {\n",
      "                \"temp1\": {\n",
      "                    \"_varType\": \"eTemperature\",\n",
      "                    \"_varName\": \"Temperature\",\n",
      "                    \"_ID\": \"temp1\",\n",
      "                    \"_unit\": \"K\",\n",
      "                    \"_VariableBase__type\": \"var\"\n",
      "                },\n",
      "                \"moleFrac1\": {\n",
      "                    \"_varType\": \"eComponentComposition\",\n",
      "                    \"_varName\": \"Mole fraction\",\n",
      "                    \"_ID\": \"moleFrac1\",\n",
      "                    \"_unit\": \"\",\n",
      "                    \"_VariableBase__type\": \"var\",\n",
      "                    \"_compoundID\": \"id1\"\n",
      "                },\n",
      "                \"moleFrac2\": {\n",
      "                    \"_varType\": \"eComponentComposition\",\n",
      "                    \"_varName\": \"Mole fraction\",\n",
      "                    \"_ID\": \"moleFrac2\",\n",
      "                    \"_unit\": \"\",\n",
      "                    \"_VariableBase__type\": \"var\",\n",
      "                    \"_compoundID\": \"id2\"\n",
      "                }\n",
      "            },\n",
      "            \"_measurements\": {\n",
      "                \"meas1\": {\n",
      "                    \"_ID\": \"meas1\",\n",
      "                    \"properties\": {\n",
      "                        \"visc1\": 0.001\n",
      "                    },\n",
      "                    \"variables\": {\n",
      "                        \"temp1\": 300,\n",
      "                        \"moleFrac1\": 0.5,\n",
      "                        \"moleFrac2\": 0.5\n",
      "                    }\n",
      "                }\n",
      "            }\n",
      "        }\n",
      "    }\n",
      "}\n"
     ]
    }
   ],
   "source": [
    "# Create measurement object \n",
    "meas1 = Measurement(\n",
    "    \"meas1\",\n",
    "    values,\n",
    "    pureOrMixtureData=experiment\n",
    ")\n",
    "\n",
    "# add Measurement to experiment\n",
    "experiment.addMeasurements(meas1)\n",
    "\n",
    "# add experiment to dataReport\n",
    "dataReport.addPureOrMixtureData(experiment)\n",
    "print(dataReport)"
   ]
  },
  {
   "cell_type": "markdown",
   "metadata": {},
   "source": [
    "## Write ThermoML file\n",
    "Write your ThermoML file just by calling writeThermo. In the second argument the name of the ThermoML file can be specified."
   ]
  },
  {
   "cell_type": "code",
   "execution_count": 13,
   "metadata": {},
   "outputs": [],
   "source": [
    "from tools.writeTools import writeThermo\n",
    "writeThermo(dataReport, 'filename')\n"
   ]
  }
 ],
 "metadata": {
  "interpreter": {
   "hash": "8647b8584ee8e2356f562710b4bb5117ab2222b2a64053b0ea4cdd65c32e7ccf"
  },
  "kernelspec": {
   "display_name": "Python 3",
   "language": "python",
   "name": "python3"
  },
  "language_info": {
   "codemirror_mode": {
    "name": "ipython",
    "version": 3
   },
   "file_extension": ".py",
   "mimetype": "text/x-python",
   "name": "python",
   "nbconvert_exporter": "python",
   "pygments_lexer": "ipython3",
   "version": "3.9.4"
  }
 },
 "nbformat": 4,
 "nbformat_minor": 2
}

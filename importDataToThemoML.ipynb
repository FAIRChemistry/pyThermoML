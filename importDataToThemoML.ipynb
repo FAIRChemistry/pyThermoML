{
 "cells": [
  {
   "cell_type": "markdown",
   "source": [
    "# *PyThermoML* - Import Template\r\n",
    "This template explains how *PyThermoML* can be used, to write data into ThermoML.\r\n",
    "\r\n",
    "**WARNING API is still changig. Only use under reservateion**"
   ],
   "metadata": {}
  },
  {
   "cell_type": "code",
   "execution_count": 1,
   "source": [
    "from core import PureOrMixtureData, Measurement, DataReport, Compound"
   ],
   "outputs": [],
   "metadata": {}
  },
  {
   "cell_type": "markdown",
   "source": [
    "## DataReport\r\n",
    "First create a dataReport instance, in which you can declare the title, the DOI and the authors of the referred paper.\r\n"
   ],
   "metadata": {}
  },
  {
   "cell_type": "code",
   "execution_count": 4,
   "source": [
    "dataReport = DataReport(\"Title of referred paper\", \"DOI of referred paper\", \"author 1\", \"author 2\")"
   ],
   "outputs": [],
   "metadata": {}
  },
  {
   "cell_type": "markdown",
   "source": [
    "## Compounds\r\n",
    "After that you can declare the compounds which you have used in your chemical system."
   ],
   "metadata": {}
  },
  {
   "cell_type": "code",
   "execution_count": 5,
   "source": [
    "comp1 = Compound(\"id1\", \"inhi1\", \"inchikey1\", \"smiles1\", \"water\")\r\n",
    "comp2 = Compound(\"id2\", \"inchi2\", \"inchikey2\", \"smiles2\", \"ethanol\")"
   ],
   "outputs": [],
   "metadata": {}
  },
  {
   "cell_type": "markdown",
   "source": [
    "The attributes of Compounds are an internal ID, the inchi code, inchi key, smiles code and a common Name. In the next step, add the compounds to dataReport. With the ID you can reference to the compound later."
   ],
   "metadata": {}
  },
  {
   "cell_type": "code",
   "execution_count": null,
   "source": [
    "comp1_ID = dataReport.addCompound(comp1)\r\n",
    "comp2_ID = dataReport.addCompound(comp2)"
   ],
   "outputs": [],
   "metadata": {}
  },
  {
   "cell_type": "markdown",
   "source": [
    "## Pure or mixture data\r\n",
    "The main part begins here: Declare in a PureOrMixtureData object which compounds you have used. By calling by their ID, give your experiment also an ID and a name."
   ],
   "metadata": {}
  },
  {
   "cell_type": "code",
   "execution_count": null,
   "source": [
    "experiment = PureOrMixtureData(\"ID\", \"experiement1\", comp1_ID, comp2_ID)"
   ],
   "outputs": [],
   "metadata": {}
  },
  {
   "cell_type": "markdown",
   "source": [
    "## Declaration of Property and Variable\r\n",
    "Declare your examined property (e.g. the viscosity) and variables (e. g. the temperature, mole fraction) of the experiment/simulation.\r\n",
    "\r\n",
    "Concerning the property, enter again an ID and indicate whether you've done a simulation or an experiment.\r\n",
    "The variable has also an ID. Be aware, that there are compound specific variables/properties (e. g. mole fraction). The function returns an ID to refer to respective property/variable."
   ],
   "metadata": {}
  },
  {
   "cell_type": "code",
   "execution_count": null,
   "source": [
    "from props.transportproperties import viscosity\r\n",
    "from vars.componentcomposition import moleFraction\r\n",
    "from vars.temperature import temperature\r\n",
    "from props.transportproperties import viscosity\r\n",
    "\r\n",
    "\r\n",
    "#property definietions\r\n",
    "visc = viscosity('visc1', \"simulation\")\r\n",
    "# Variable definitions\r\n",
    "temp = temperature('temp1')\r\n",
    "frac1 = moleFraction('moleFrac1', comp1_ID)\r\n",
    "frac2 = moleFraction('moleFrac2', comp2_ID)"
   ],
   "outputs": [],
   "metadata": {}
  },
  {
   "cell_type": "markdown",
   "source": [
    "This API provides the following properties:\r\n",
    "* volumetric properties:\r\n",
    "    * mass density (kg/m3)\r\n",
    "* heat capacity properties:\r\n",
    "    * molar heat capacity at constant pressure (J/K/mol)\r\n",
    "    * molar heat capacity at constant volume (J/K/mol)\r\n",
    "* transport properties:\r\n",
    "    * viscosity (Pa*s)\r\n",
    "    * kinematic viscosity (m2/s)\r\n",
    "    * microviscosity (Pa*s)\r\n",
    "    * self dffusion coefficient (m2/s)\r\n",
    "* bioproperties:\r\n",
    "    * peakTemperature (K)\r\n",
    "* other:\r\n",
    "    * surface tension (N/m) \r\n",
    "    * speed of sound (m/s)\r\n",
    "\r\n",
    "This API provides the following variables:\r\n",
    "* component composition:\r\n",
    "    * mole fraction ()\r\n",
    "* temperatures:\r\n",
    "    * temperature(K)\r\n",
    "    * upper temperature(K)\r\n",
    "    * lower temperature(K)\r\n",
    "* pressure:\r\n",
    "    * pressure (kPa)\r\n",
    "The units are fix and cannot be changed!\r\n",
    "For usage import the respective packages"
   ],
   "metadata": {}
  },
  {
   "cell_type": "markdown",
   "source": [
    "Add initialized properties/variables to experiement. The experiment is now ready to get filled with data.\r\n"
   ],
   "metadata": {}
  },
  {
   "cell_type": "code",
   "execution_count": null,
   "source": [
    "viscID = experiment.addProperty(visc)\r\n",
    "tempID = experiment.addVariable(temp)\r\n",
    "frac1ID = experiment.addVariable(frac1)\r\n",
    "frac2ID = experiment.addVariable(frac2)"
   ],
   "outputs": [],
   "metadata": {}
  },
  {
   "cell_type": "markdown",
   "source": [
    "## Add data to experiment\r\n",
    "Data can be added to experiment by creating a Measurement object. It contains again a name, a values dictionary and a reference to the expereiment. First declare the values dictionary.\r\n",
    "Therfore use the ID of the property/variable as key and enter the values."
   ],
   "metadata": {}
  },
  {
   "cell_type": "code",
   "execution_count": null,
   "source": [
    "values = dict()\r\n",
    "\r\n",
    "values[tempID] = 300\r\n",
    "values[frac1ID] = 0.5\r\n",
    "values[frac2ID] = 0.5\r\n",
    "\r\n",
    "values[viscID] = 0.001"
   ],
   "outputs": [],
   "metadata": {}
  },
  {
   "cell_type": "markdown",
   "source": [
    "In this **example** (T = 300K, mole fraction of water and ethanol = 1/2) the mixture had a viscosity at 0.001 Pa*s. "
   ],
   "metadata": {}
  },
  {
   "cell_type": "code",
   "execution_count": null,
   "source": [
    "# Create measurement object \r\n",
    "meas1 = Measurement(\r\n",
    "    \"meas1\",\r\n",
    "    values,\r\n",
    "    pureOrMixtureData=experiment\r\n",
    ")\r\n",
    "\r\n",
    "# add Measurement to experiment\r\n",
    "experiment.addMeasurements(meas1)"
   ],
   "outputs": [],
   "metadata": {}
  },
  {
   "cell_type": "markdown",
   "source": [
    "## Write ThermoML file\r\n",
    "Write your ThermoML file just by calling writeThermo. In the second argument the name of the ThermoML file can be specified."
   ],
   "metadata": {}
  },
  {
   "cell_type": "code",
   "execution_count": null,
   "source": [
    "from tools.writeTools import writeThermo\r\n",
    "writeThermo(dataReport, 'filename')"
   ],
   "outputs": [],
   "metadata": {}
  }
 ],
 "metadata": {
  "orig_nbformat": 4,
  "language_info": {
   "name": "python",
   "version": "3.9.4",
   "mimetype": "text/x-python",
   "codemirror_mode": {
    "name": "ipython",
    "version": 3
   },
   "pygments_lexer": "ipython3",
   "nbconvert_exporter": "python",
   "file_extension": ".py"
  },
  "kernelspec": {
   "name": "python3",
   "display_name": "Python 3.9.4 64-bit"
  },
  "interpreter": {
   "hash": "8647b8584ee8e2356f562710b4bb5117ab2222b2a64053b0ea4cdd65c32e7ccf"
  }
 },
 "nbformat": 4,
 "nbformat_minor": 2
}